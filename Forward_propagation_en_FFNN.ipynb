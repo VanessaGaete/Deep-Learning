{
  "nbformat": 4,
  "nbformat_minor": 0,
  "metadata": {
    "colab": {
      "name": "Forward propagation en FFNN",
      "provenance": [],
      "collapsed_sections": [],
      "toc_visible": true
    },
    "kernelspec": {
      "name": "python3",
      "display_name": "Python 3"
    },
    "accelerator": "GPU",
    "widgets": {
      "application/vnd.jupyter.widget-state+json": {
        "71d0d7a67ca14aa1a654c8ae30ce700d": {
          "model_module": "@jupyter-widgets/controls",
          "model_name": "HBoxModel",
          "state": {
            "_view_name": "HBoxView",
            "_dom_classes": [],
            "_model_name": "HBoxModel",
            "_view_module": "@jupyter-widgets/controls",
            "_model_module_version": "1.5.0",
            "_view_count": null,
            "_view_module_version": "1.5.0",
            "box_style": "",
            "layout": "IPY_MODEL_f3410f3ac9b84bd9a1cec68e0dcd5975",
            "_model_module": "@jupyter-widgets/controls",
            "children": [
              "IPY_MODEL_88ccbc6f91ec4c969e52a431202d1e17",
              "IPY_MODEL_5b902afa1e7f4a3eacf7b79aedba3c84"
            ]
          }
        },
        "f3410f3ac9b84bd9a1cec68e0dcd5975": {
          "model_module": "@jupyter-widgets/base",
          "model_name": "LayoutModel",
          "state": {
            "_view_name": "LayoutView",
            "grid_template_rows": null,
            "right": null,
            "justify_content": null,
            "_view_module": "@jupyter-widgets/base",
            "overflow": null,
            "_model_module_version": "1.2.0",
            "_view_count": null,
            "flex_flow": null,
            "width": null,
            "min_width": null,
            "border": null,
            "align_items": null,
            "bottom": null,
            "_model_module": "@jupyter-widgets/base",
            "top": null,
            "grid_column": null,
            "overflow_y": null,
            "overflow_x": null,
            "grid_auto_flow": null,
            "grid_area": null,
            "grid_template_columns": null,
            "flex": null,
            "_model_name": "LayoutModel",
            "justify_items": null,
            "grid_row": null,
            "max_height": null,
            "align_content": null,
            "visibility": null,
            "align_self": null,
            "height": null,
            "min_height": null,
            "padding": null,
            "grid_auto_rows": null,
            "grid_gap": null,
            "max_width": null,
            "order": null,
            "_view_module_version": "1.2.0",
            "grid_template_areas": null,
            "object_position": null,
            "object_fit": null,
            "grid_auto_columns": null,
            "margin": null,
            "display": null,
            "left": null
          }
        },
        "88ccbc6f91ec4c969e52a431202d1e17": {
          "model_module": "@jupyter-widgets/controls",
          "model_name": "FloatProgressModel",
          "state": {
            "_view_name": "ProgressView",
            "style": "IPY_MODEL_4adc2abd81b64bd6ab8ab72b080d340f",
            "_dom_classes": [],
            "description": "",
            "_model_name": "FloatProgressModel",
            "bar_style": "info",
            "max": 1,
            "_view_module": "@jupyter-widgets/controls",
            "_model_module_version": "1.5.0",
            "value": 1,
            "_view_count": null,
            "_view_module_version": "1.5.0",
            "orientation": "horizontal",
            "min": 0,
            "description_tooltip": null,
            "_model_module": "@jupyter-widgets/controls",
            "layout": "IPY_MODEL_eecd977823f14d4b8e944e026037f89b"
          }
        },
        "5b902afa1e7f4a3eacf7b79aedba3c84": {
          "model_module": "@jupyter-widgets/controls",
          "model_name": "HTMLModel",
          "state": {
            "_view_name": "HTMLView",
            "style": "IPY_MODEL_f1dcd776290040df9301cbbae72edf9e",
            "_dom_classes": [],
            "description": "",
            "_model_name": "HTMLModel",
            "placeholder": "​",
            "_view_module": "@jupyter-widgets/controls",
            "_model_module_version": "1.5.0",
            "value": " 9920512/? [00:20&lt;00:00, 9547771.97it/s]",
            "_view_count": null,
            "_view_module_version": "1.5.0",
            "description_tooltip": null,
            "_model_module": "@jupyter-widgets/controls",
            "layout": "IPY_MODEL_fe4ab694a1a841a5ad41ef39048fab22"
          }
        },
        "4adc2abd81b64bd6ab8ab72b080d340f": {
          "model_module": "@jupyter-widgets/controls",
          "model_name": "ProgressStyleModel",
          "state": {
            "_view_name": "StyleView",
            "_model_name": "ProgressStyleModel",
            "description_width": "initial",
            "_view_module": "@jupyter-widgets/base",
            "_model_module_version": "1.5.0",
            "_view_count": null,
            "_view_module_version": "1.2.0",
            "bar_color": null,
            "_model_module": "@jupyter-widgets/controls"
          }
        },
        "eecd977823f14d4b8e944e026037f89b": {
          "model_module": "@jupyter-widgets/base",
          "model_name": "LayoutModel",
          "state": {
            "_view_name": "LayoutView",
            "grid_template_rows": null,
            "right": null,
            "justify_content": null,
            "_view_module": "@jupyter-widgets/base",
            "overflow": null,
            "_model_module_version": "1.2.0",
            "_view_count": null,
            "flex_flow": null,
            "width": null,
            "min_width": null,
            "border": null,
            "align_items": null,
            "bottom": null,
            "_model_module": "@jupyter-widgets/base",
            "top": null,
            "grid_column": null,
            "overflow_y": null,
            "overflow_x": null,
            "grid_auto_flow": null,
            "grid_area": null,
            "grid_template_columns": null,
            "flex": null,
            "_model_name": "LayoutModel",
            "justify_items": null,
            "grid_row": null,
            "max_height": null,
            "align_content": null,
            "visibility": null,
            "align_self": null,
            "height": null,
            "min_height": null,
            "padding": null,
            "grid_auto_rows": null,
            "grid_gap": null,
            "max_width": null,
            "order": null,
            "_view_module_version": "1.2.0",
            "grid_template_areas": null,
            "object_position": null,
            "object_fit": null,
            "grid_auto_columns": null,
            "margin": null,
            "display": null,
            "left": null
          }
        },
        "f1dcd776290040df9301cbbae72edf9e": {
          "model_module": "@jupyter-widgets/controls",
          "model_name": "DescriptionStyleModel",
          "state": {
            "_view_name": "StyleView",
            "_model_name": "DescriptionStyleModel",
            "description_width": "",
            "_view_module": "@jupyter-widgets/base",
            "_model_module_version": "1.5.0",
            "_view_count": null,
            "_view_module_version": "1.2.0",
            "_model_module": "@jupyter-widgets/controls"
          }
        },
        "fe4ab694a1a841a5ad41ef39048fab22": {
          "model_module": "@jupyter-widgets/base",
          "model_name": "LayoutModel",
          "state": {
            "_view_name": "LayoutView",
            "grid_template_rows": null,
            "right": null,
            "justify_content": null,
            "_view_module": "@jupyter-widgets/base",
            "overflow": null,
            "_model_module_version": "1.2.0",
            "_view_count": null,
            "flex_flow": null,
            "width": null,
            "min_width": null,
            "border": null,
            "align_items": null,
            "bottom": null,
            "_model_module": "@jupyter-widgets/base",
            "top": null,
            "grid_column": null,
            "overflow_y": null,
            "overflow_x": null,
            "grid_auto_flow": null,
            "grid_area": null,
            "grid_template_columns": null,
            "flex": null,
            "_model_name": "LayoutModel",
            "justify_items": null,
            "grid_row": null,
            "max_height": null,
            "align_content": null,
            "visibility": null,
            "align_self": null,
            "height": null,
            "min_height": null,
            "padding": null,
            "grid_auto_rows": null,
            "grid_gap": null,
            "max_width": null,
            "order": null,
            "_view_module_version": "1.2.0",
            "grid_template_areas": null,
            "object_position": null,
            "object_fit": null,
            "grid_auto_columns": null,
            "margin": null,
            "display": null,
            "left": null
          }
        },
        "d531d01675664fe9ac49248829dcaecc": {
          "model_module": "@jupyter-widgets/controls",
          "model_name": "HBoxModel",
          "state": {
            "_view_name": "HBoxView",
            "_dom_classes": [],
            "_model_name": "HBoxModel",
            "_view_module": "@jupyter-widgets/controls",
            "_model_module_version": "1.5.0",
            "_view_count": null,
            "_view_module_version": "1.5.0",
            "box_style": "",
            "layout": "IPY_MODEL_738741a4cdf544439299f51f455f6ef9",
            "_model_module": "@jupyter-widgets/controls",
            "children": [
              "IPY_MODEL_f06ef0dd70f34863b536e2ad341c6d83",
              "IPY_MODEL_4e99c7d6c8314009a0cac0e6b02920a1"
            ]
          }
        },
        "738741a4cdf544439299f51f455f6ef9": {
          "model_module": "@jupyter-widgets/base",
          "model_name": "LayoutModel",
          "state": {
            "_view_name": "LayoutView",
            "grid_template_rows": null,
            "right": null,
            "justify_content": null,
            "_view_module": "@jupyter-widgets/base",
            "overflow": null,
            "_model_module_version": "1.2.0",
            "_view_count": null,
            "flex_flow": null,
            "width": null,
            "min_width": null,
            "border": null,
            "align_items": null,
            "bottom": null,
            "_model_module": "@jupyter-widgets/base",
            "top": null,
            "grid_column": null,
            "overflow_y": null,
            "overflow_x": null,
            "grid_auto_flow": null,
            "grid_area": null,
            "grid_template_columns": null,
            "flex": null,
            "_model_name": "LayoutModel",
            "justify_items": null,
            "grid_row": null,
            "max_height": null,
            "align_content": null,
            "visibility": null,
            "align_self": null,
            "height": null,
            "min_height": null,
            "padding": null,
            "grid_auto_rows": null,
            "grid_gap": null,
            "max_width": null,
            "order": null,
            "_view_module_version": "1.2.0",
            "grid_template_areas": null,
            "object_position": null,
            "object_fit": null,
            "grid_auto_columns": null,
            "margin": null,
            "display": null,
            "left": null
          }
        },
        "f06ef0dd70f34863b536e2ad341c6d83": {
          "model_module": "@jupyter-widgets/controls",
          "model_name": "FloatProgressModel",
          "state": {
            "_view_name": "ProgressView",
            "style": "IPY_MODEL_21ccdf882f2341d99aa8a220b918c039",
            "_dom_classes": [],
            "description": "",
            "_model_name": "FloatProgressModel",
            "bar_style": "success",
            "max": 1,
            "_view_module": "@jupyter-widgets/controls",
            "_model_module_version": "1.5.0",
            "value": 1,
            "_view_count": null,
            "_view_module_version": "1.5.0",
            "orientation": "horizontal",
            "min": 0,
            "description_tooltip": null,
            "_model_module": "@jupyter-widgets/controls",
            "layout": "IPY_MODEL_10072576393a415596a9f3ef8edcdaf2"
          }
        },
        "4e99c7d6c8314009a0cac0e6b02920a1": {
          "model_module": "@jupyter-widgets/controls",
          "model_name": "HTMLModel",
          "state": {
            "_view_name": "HTMLView",
            "style": "IPY_MODEL_e8d50c91d13c4f40b7b9f8a3a1469363",
            "_dom_classes": [],
            "description": "",
            "_model_name": "HTMLModel",
            "placeholder": "​",
            "_view_module": "@jupyter-widgets/controls",
            "_model_module_version": "1.5.0",
            "value": " 32768/? [00:00&lt;00:00, 80525.71it/s]",
            "_view_count": null,
            "_view_module_version": "1.5.0",
            "description_tooltip": null,
            "_model_module": "@jupyter-widgets/controls",
            "layout": "IPY_MODEL_991703e7c099448e9669418aafcd2d50"
          }
        },
        "21ccdf882f2341d99aa8a220b918c039": {
          "model_module": "@jupyter-widgets/controls",
          "model_name": "ProgressStyleModel",
          "state": {
            "_view_name": "StyleView",
            "_model_name": "ProgressStyleModel",
            "description_width": "initial",
            "_view_module": "@jupyter-widgets/base",
            "_model_module_version": "1.5.0",
            "_view_count": null,
            "_view_module_version": "1.2.0",
            "bar_color": null,
            "_model_module": "@jupyter-widgets/controls"
          }
        },
        "10072576393a415596a9f3ef8edcdaf2": {
          "model_module": "@jupyter-widgets/base",
          "model_name": "LayoutModel",
          "state": {
            "_view_name": "LayoutView",
            "grid_template_rows": null,
            "right": null,
            "justify_content": null,
            "_view_module": "@jupyter-widgets/base",
            "overflow": null,
            "_model_module_version": "1.2.0",
            "_view_count": null,
            "flex_flow": null,
            "width": null,
            "min_width": null,
            "border": null,
            "align_items": null,
            "bottom": null,
            "_model_module": "@jupyter-widgets/base",
            "top": null,
            "grid_column": null,
            "overflow_y": null,
            "overflow_x": null,
            "grid_auto_flow": null,
            "grid_area": null,
            "grid_template_columns": null,
            "flex": null,
            "_model_name": "LayoutModel",
            "justify_items": null,
            "grid_row": null,
            "max_height": null,
            "align_content": null,
            "visibility": null,
            "align_self": null,
            "height": null,
            "min_height": null,
            "padding": null,
            "grid_auto_rows": null,
            "grid_gap": null,
            "max_width": null,
            "order": null,
            "_view_module_version": "1.2.0",
            "grid_template_areas": null,
            "object_position": null,
            "object_fit": null,
            "grid_auto_columns": null,
            "margin": null,
            "display": null,
            "left": null
          }
        },
        "e8d50c91d13c4f40b7b9f8a3a1469363": {
          "model_module": "@jupyter-widgets/controls",
          "model_name": "DescriptionStyleModel",
          "state": {
            "_view_name": "StyleView",
            "_model_name": "DescriptionStyleModel",
            "description_width": "",
            "_view_module": "@jupyter-widgets/base",
            "_model_module_version": "1.5.0",
            "_view_count": null,
            "_view_module_version": "1.2.0",
            "_model_module": "@jupyter-widgets/controls"
          }
        },
        "991703e7c099448e9669418aafcd2d50": {
          "model_module": "@jupyter-widgets/base",
          "model_name": "LayoutModel",
          "state": {
            "_view_name": "LayoutView",
            "grid_template_rows": null,
            "right": null,
            "justify_content": null,
            "_view_module": "@jupyter-widgets/base",
            "overflow": null,
            "_model_module_version": "1.2.0",
            "_view_count": null,
            "flex_flow": null,
            "width": null,
            "min_width": null,
            "border": null,
            "align_items": null,
            "bottom": null,
            "_model_module": "@jupyter-widgets/base",
            "top": null,
            "grid_column": null,
            "overflow_y": null,
            "overflow_x": null,
            "grid_auto_flow": null,
            "grid_area": null,
            "grid_template_columns": null,
            "flex": null,
            "_model_name": "LayoutModel",
            "justify_items": null,
            "grid_row": null,
            "max_height": null,
            "align_content": null,
            "visibility": null,
            "align_self": null,
            "height": null,
            "min_height": null,
            "padding": null,
            "grid_auto_rows": null,
            "grid_gap": null,
            "max_width": null,
            "order": null,
            "_view_module_version": "1.2.0",
            "grid_template_areas": null,
            "object_position": null,
            "object_fit": null,
            "grid_auto_columns": null,
            "margin": null,
            "display": null,
            "left": null
          }
        },
        "852d20551d3f430395e3df38737a9e78": {
          "model_module": "@jupyter-widgets/controls",
          "model_name": "HBoxModel",
          "state": {
            "_view_name": "HBoxView",
            "_dom_classes": [],
            "_model_name": "HBoxModel",
            "_view_module": "@jupyter-widgets/controls",
            "_model_module_version": "1.5.0",
            "_view_count": null,
            "_view_module_version": "1.5.0",
            "box_style": "",
            "layout": "IPY_MODEL_7cf119798d8244c39b0912eb8bf2d200",
            "_model_module": "@jupyter-widgets/controls",
            "children": [
              "IPY_MODEL_a498d2751ce7415cb09ce0adc79a87ad",
              "IPY_MODEL_92e41b4bad9940c08f26854ff3ad3d28"
            ]
          }
        },
        "7cf119798d8244c39b0912eb8bf2d200": {
          "model_module": "@jupyter-widgets/base",
          "model_name": "LayoutModel",
          "state": {
            "_view_name": "LayoutView",
            "grid_template_rows": null,
            "right": null,
            "justify_content": null,
            "_view_module": "@jupyter-widgets/base",
            "overflow": null,
            "_model_module_version": "1.2.0",
            "_view_count": null,
            "flex_flow": null,
            "width": null,
            "min_width": null,
            "border": null,
            "align_items": null,
            "bottom": null,
            "_model_module": "@jupyter-widgets/base",
            "top": null,
            "grid_column": null,
            "overflow_y": null,
            "overflow_x": null,
            "grid_auto_flow": null,
            "grid_area": null,
            "grid_template_columns": null,
            "flex": null,
            "_model_name": "LayoutModel",
            "justify_items": null,
            "grid_row": null,
            "max_height": null,
            "align_content": null,
            "visibility": null,
            "align_self": null,
            "height": null,
            "min_height": null,
            "padding": null,
            "grid_auto_rows": null,
            "grid_gap": null,
            "max_width": null,
            "order": null,
            "_view_module_version": "1.2.0",
            "grid_template_areas": null,
            "object_position": null,
            "object_fit": null,
            "grid_auto_columns": null,
            "margin": null,
            "display": null,
            "left": null
          }
        },
        "a498d2751ce7415cb09ce0adc79a87ad": {
          "model_module": "@jupyter-widgets/controls",
          "model_name": "FloatProgressModel",
          "state": {
            "_view_name": "ProgressView",
            "style": "IPY_MODEL_aef91d4c96254e29b2033e834710da0e",
            "_dom_classes": [],
            "description": "",
            "_model_name": "FloatProgressModel",
            "bar_style": "success",
            "max": 1,
            "_view_module": "@jupyter-widgets/controls",
            "_model_module_version": "1.5.0",
            "value": 1,
            "_view_count": null,
            "_view_module_version": "1.5.0",
            "orientation": "horizontal",
            "min": 0,
            "description_tooltip": null,
            "_model_module": "@jupyter-widgets/controls",
            "layout": "IPY_MODEL_71bd9ce8272043f9a6a6d0f033cc40b5"
          }
        },
        "92e41b4bad9940c08f26854ff3ad3d28": {
          "model_module": "@jupyter-widgets/controls",
          "model_name": "HTMLModel",
          "state": {
            "_view_name": "HTMLView",
            "style": "IPY_MODEL_be73831a52f14a73a3ca07adf46f27c2",
            "_dom_classes": [],
            "description": "",
            "_model_name": "HTMLModel",
            "placeholder": "​",
            "_view_module": "@jupyter-widgets/controls",
            "_model_module_version": "1.5.0",
            "value": " 1654784/? [00:00&lt;00:00, 5548556.51it/s]",
            "_view_count": null,
            "_view_module_version": "1.5.0",
            "description_tooltip": null,
            "_model_module": "@jupyter-widgets/controls",
            "layout": "IPY_MODEL_9a52c1b0554d41fead227e03e1b956e4"
          }
        },
        "aef91d4c96254e29b2033e834710da0e": {
          "model_module": "@jupyter-widgets/controls",
          "model_name": "ProgressStyleModel",
          "state": {
            "_view_name": "StyleView",
            "_model_name": "ProgressStyleModel",
            "description_width": "initial",
            "_view_module": "@jupyter-widgets/base",
            "_model_module_version": "1.5.0",
            "_view_count": null,
            "_view_module_version": "1.2.0",
            "bar_color": null,
            "_model_module": "@jupyter-widgets/controls"
          }
        },
        "71bd9ce8272043f9a6a6d0f033cc40b5": {
          "model_module": "@jupyter-widgets/base",
          "model_name": "LayoutModel",
          "state": {
            "_view_name": "LayoutView",
            "grid_template_rows": null,
            "right": null,
            "justify_content": null,
            "_view_module": "@jupyter-widgets/base",
            "overflow": null,
            "_model_module_version": "1.2.0",
            "_view_count": null,
            "flex_flow": null,
            "width": null,
            "min_width": null,
            "border": null,
            "align_items": null,
            "bottom": null,
            "_model_module": "@jupyter-widgets/base",
            "top": null,
            "grid_column": null,
            "overflow_y": null,
            "overflow_x": null,
            "grid_auto_flow": null,
            "grid_area": null,
            "grid_template_columns": null,
            "flex": null,
            "_model_name": "LayoutModel",
            "justify_items": null,
            "grid_row": null,
            "max_height": null,
            "align_content": null,
            "visibility": null,
            "align_self": null,
            "height": null,
            "min_height": null,
            "padding": null,
            "grid_auto_rows": null,
            "grid_gap": null,
            "max_width": null,
            "order": null,
            "_view_module_version": "1.2.0",
            "grid_template_areas": null,
            "object_position": null,
            "object_fit": null,
            "grid_auto_columns": null,
            "margin": null,
            "display": null,
            "left": null
          }
        },
        "be73831a52f14a73a3ca07adf46f27c2": {
          "model_module": "@jupyter-widgets/controls",
          "model_name": "DescriptionStyleModel",
          "state": {
            "_view_name": "StyleView",
            "_model_name": "DescriptionStyleModel",
            "description_width": "",
            "_view_module": "@jupyter-widgets/base",
            "_model_module_version": "1.5.0",
            "_view_count": null,
            "_view_module_version": "1.2.0",
            "_model_module": "@jupyter-widgets/controls"
          }
        },
        "9a52c1b0554d41fead227e03e1b956e4": {
          "model_module": "@jupyter-widgets/base",
          "model_name": "LayoutModel",
          "state": {
            "_view_name": "LayoutView",
            "grid_template_rows": null,
            "right": null,
            "justify_content": null,
            "_view_module": "@jupyter-widgets/base",
            "overflow": null,
            "_model_module_version": "1.2.0",
            "_view_count": null,
            "flex_flow": null,
            "width": null,
            "min_width": null,
            "border": null,
            "align_items": null,
            "bottom": null,
            "_model_module": "@jupyter-widgets/base",
            "top": null,
            "grid_column": null,
            "overflow_y": null,
            "overflow_x": null,
            "grid_auto_flow": null,
            "grid_area": null,
            "grid_template_columns": null,
            "flex": null,
            "_model_name": "LayoutModel",
            "justify_items": null,
            "grid_row": null,
            "max_height": null,
            "align_content": null,
            "visibility": null,
            "align_self": null,
            "height": null,
            "min_height": null,
            "padding": null,
            "grid_auto_rows": null,
            "grid_gap": null,
            "max_width": null,
            "order": null,
            "_view_module_version": "1.2.0",
            "grid_template_areas": null,
            "object_position": null,
            "object_fit": null,
            "grid_auto_columns": null,
            "margin": null,
            "display": null,
            "left": null
          }
        },
        "dcdf2beb0e57495ea69948ab51e65923": {
          "model_module": "@jupyter-widgets/controls",
          "model_name": "HBoxModel",
          "state": {
            "_view_name": "HBoxView",
            "_dom_classes": [],
            "_model_name": "HBoxModel",
            "_view_module": "@jupyter-widgets/controls",
            "_model_module_version": "1.5.0",
            "_view_count": null,
            "_view_module_version": "1.5.0",
            "box_style": "",
            "layout": "IPY_MODEL_f1cd1f0ea0b344929bd946f57aa6db83",
            "_model_module": "@jupyter-widgets/controls",
            "children": [
              "IPY_MODEL_ed0fc4c1bb02494091825c29929bae6f",
              "IPY_MODEL_dbd91e76f4f0420393e5063c8663a65a"
            ]
          }
        },
        "f1cd1f0ea0b344929bd946f57aa6db83": {
          "model_module": "@jupyter-widgets/base",
          "model_name": "LayoutModel",
          "state": {
            "_view_name": "LayoutView",
            "grid_template_rows": null,
            "right": null,
            "justify_content": null,
            "_view_module": "@jupyter-widgets/base",
            "overflow": null,
            "_model_module_version": "1.2.0",
            "_view_count": null,
            "flex_flow": null,
            "width": null,
            "min_width": null,
            "border": null,
            "align_items": null,
            "bottom": null,
            "_model_module": "@jupyter-widgets/base",
            "top": null,
            "grid_column": null,
            "overflow_y": null,
            "overflow_x": null,
            "grid_auto_flow": null,
            "grid_area": null,
            "grid_template_columns": null,
            "flex": null,
            "_model_name": "LayoutModel",
            "justify_items": null,
            "grid_row": null,
            "max_height": null,
            "align_content": null,
            "visibility": null,
            "align_self": null,
            "height": null,
            "min_height": null,
            "padding": null,
            "grid_auto_rows": null,
            "grid_gap": null,
            "max_width": null,
            "order": null,
            "_view_module_version": "1.2.0",
            "grid_template_areas": null,
            "object_position": null,
            "object_fit": null,
            "grid_auto_columns": null,
            "margin": null,
            "display": null,
            "left": null
          }
        },
        "ed0fc4c1bb02494091825c29929bae6f": {
          "model_module": "@jupyter-widgets/controls",
          "model_name": "FloatProgressModel",
          "state": {
            "_view_name": "ProgressView",
            "style": "IPY_MODEL_c9861ccdf83e4e6592b2bf9f6ca9f5dc",
            "_dom_classes": [],
            "description": "",
            "_model_name": "FloatProgressModel",
            "bar_style": "info",
            "max": 1,
            "_view_module": "@jupyter-widgets/controls",
            "_model_module_version": "1.5.0",
            "value": 0,
            "_view_count": null,
            "_view_module_version": "1.5.0",
            "orientation": "horizontal",
            "min": 0,
            "description_tooltip": null,
            "_model_module": "@jupyter-widgets/controls",
            "layout": "IPY_MODEL_8ade4e906f964cb98250f5c35c0603c4"
          }
        },
        "dbd91e76f4f0420393e5063c8663a65a": {
          "model_module": "@jupyter-widgets/controls",
          "model_name": "HTMLModel",
          "state": {
            "_view_name": "HTMLView",
            "style": "IPY_MODEL_6f4b71abe8a04b5dba3fa5df2cec089d",
            "_dom_classes": [],
            "description": "",
            "_model_name": "HTMLModel",
            "placeholder": "​",
            "_view_module": "@jupyter-widgets/controls",
            "_model_module_version": "1.5.0",
            "value": " 0/? [00:00&lt;?, ?it/s]",
            "_view_count": null,
            "_view_module_version": "1.5.0",
            "description_tooltip": null,
            "_model_module": "@jupyter-widgets/controls",
            "layout": "IPY_MODEL_39ae7391984d4de6b9113167a68cb17d"
          }
        },
        "c9861ccdf83e4e6592b2bf9f6ca9f5dc": {
          "model_module": "@jupyter-widgets/controls",
          "model_name": "ProgressStyleModel",
          "state": {
            "_view_name": "StyleView",
            "_model_name": "ProgressStyleModel",
            "description_width": "initial",
            "_view_module": "@jupyter-widgets/base",
            "_model_module_version": "1.5.0",
            "_view_count": null,
            "_view_module_version": "1.2.0",
            "bar_color": null,
            "_model_module": "@jupyter-widgets/controls"
          }
        },
        "8ade4e906f964cb98250f5c35c0603c4": {
          "model_module": "@jupyter-widgets/base",
          "model_name": "LayoutModel",
          "state": {
            "_view_name": "LayoutView",
            "grid_template_rows": null,
            "right": null,
            "justify_content": null,
            "_view_module": "@jupyter-widgets/base",
            "overflow": null,
            "_model_module_version": "1.2.0",
            "_view_count": null,
            "flex_flow": null,
            "width": null,
            "min_width": null,
            "border": null,
            "align_items": null,
            "bottom": null,
            "_model_module": "@jupyter-widgets/base",
            "top": null,
            "grid_column": null,
            "overflow_y": null,
            "overflow_x": null,
            "grid_auto_flow": null,
            "grid_area": null,
            "grid_template_columns": null,
            "flex": null,
            "_model_name": "LayoutModel",
            "justify_items": null,
            "grid_row": null,
            "max_height": null,
            "align_content": null,
            "visibility": null,
            "align_self": null,
            "height": null,
            "min_height": null,
            "padding": null,
            "grid_auto_rows": null,
            "grid_gap": null,
            "max_width": null,
            "order": null,
            "_view_module_version": "1.2.0",
            "grid_template_areas": null,
            "object_position": null,
            "object_fit": null,
            "grid_auto_columns": null,
            "margin": null,
            "display": null,
            "left": null
          }
        },
        "6f4b71abe8a04b5dba3fa5df2cec089d": {
          "model_module": "@jupyter-widgets/controls",
          "model_name": "DescriptionStyleModel",
          "state": {
            "_view_name": "StyleView",
            "_model_name": "DescriptionStyleModel",
            "description_width": "",
            "_view_module": "@jupyter-widgets/base",
            "_model_module_version": "1.5.0",
            "_view_count": null,
            "_view_module_version": "1.2.0",
            "_model_module": "@jupyter-widgets/controls"
          }
        },
        "39ae7391984d4de6b9113167a68cb17d": {
          "model_module": "@jupyter-widgets/base",
          "model_name": "LayoutModel",
          "state": {
            "_view_name": "LayoutView",
            "grid_template_rows": null,
            "right": null,
            "justify_content": null,
            "_view_module": "@jupyter-widgets/base",
            "overflow": null,
            "_model_module_version": "1.2.0",
            "_view_count": null,
            "flex_flow": null,
            "width": null,
            "min_width": null,
            "border": null,
            "align_items": null,
            "bottom": null,
            "_model_module": "@jupyter-widgets/base",
            "top": null,
            "grid_column": null,
            "overflow_y": null,
            "overflow_x": null,
            "grid_auto_flow": null,
            "grid_area": null,
            "grid_template_columns": null,
            "flex": null,
            "_model_name": "LayoutModel",
            "justify_items": null,
            "grid_row": null,
            "max_height": null,
            "align_content": null,
            "visibility": null,
            "align_self": null,
            "height": null,
            "min_height": null,
            "padding": null,
            "grid_auto_rows": null,
            "grid_gap": null,
            "max_width": null,
            "order": null,
            "_view_module_version": "1.2.0",
            "grid_template_areas": null,
            "object_position": null,
            "object_fit": null,
            "grid_auto_columns": null,
            "margin": null,
            "display": null,
            "left": null
          }
        }
      }
    }
  },
  "cells": [
    {
      "cell_type": "markdown",
      "metadata": {
        "id": "4zhjpqvcdo5o"
      },
      "source": [
        "# Tarea 1: Activaciones y pasada hacia adelante en una red neuronal <br/> CC6204 Deep Learning, Universidad de Chile \n"
      ]
    },
    {
      "cell_type": "code",
      "metadata": {
        "id": "I_kVL7undMBx"
      },
      "source": [
        "# Este notebook está pensado para correr en CoLaboratory. \n",
        "# Lo único imprescindible por importar es torch \n",
        "import torch"
      ],
      "execution_count": 3,
      "outputs": []
    },
    {
      "cell_type": "markdown",
      "metadata": {
        "id": "2xbEy3Php0a2"
      },
      "source": [
        "# Parte 1: Funciones de activación y función de salida\n",
        "\n",
        "En esta parte se programarán varias funciones que serán de utilidad cuando construyas tu red neuronal.\n"
      ]
    },
    {
      "cell_type": "markdown",
      "metadata": {
        "id": "p3nKwdzpqF2y"
      },
      "source": [
        "## 1a) Funciones de activación\n",
        "\n",
        "En esta parte se programarán las siguientes funciones de activación:\n",
        "\n",
        "*   `relu`, que para cada valor $x$ en un tensor computa el máximo entre $0$ y $x$,  \n",
        "*   `swish`, propuesta en el artículo [Searching for Activation Functions](https://arxiv.org/abs/1710.05941), y\n",
        "*   `celu`, propuesta en el artículo [Continuously Differentiable Exponential Linear Units](https://arxiv.org/abs/1704.07483).\n",
        "\n",
        "En cada caso se recibe un tensor (de cualquier cantidad de dimensiones) y se entrega un tensor con la función aplicada a todos sus elementos. La aplicación de las funciones se hace *punto a punto*, por lo que el tensor de salida de cada función tiene las mismas dimensiones que el tensor de entrada."
      ]
    },
    {
      "cell_type": "code",
      "metadata": {
        "id": "p80-9lwaUAix"
      },
      "source": [
        "def sig(T):\n",
        "  return torch.reciprocal(1 + torch.exp(-1 * T))\n",
        "\n",
        "def tanh(T):\n",
        "  E = torch.exp(T)\n",
        "  e = torch.exp(-1 * T)\n",
        "  return (E - e) * torch.reciprocal(E + e)"
      ],
      "execution_count": 4,
      "outputs": []
    },
    {
      "cell_type": "code",
      "metadata": {
        "id": "4VtQWFePbtrF"
      },
      "source": [
        "def sig(T):\n",
        "  return torch.reciprocal(1 + torch.exp(-1 * T))\n",
        "\n",
        "def tanh(T):\n",
        "  E = torch.exp(T)\n",
        "  e = torch.exp(-1 * T)\n",
        "  return (E - e) * torch.reciprocal(E + e)\n",
        "\n",
        "def relu(T):\n",
        "  return torch.clamp(T, min=0)\n",
        "  \n",
        "def swish(T, beta):\n",
        "  return sig(T*beta)*T\n",
        "\n",
        "def celu(T,alpha):\n",
        "  M1 = torch.clamp(T, min=0)\n",
        "  M2 = torch.clamp(T, max=0)\n",
        "\n",
        "  M3 = (torch.exp(M2/alpha) - 1) * alpha\n",
        "\n",
        "  return M3 + M1\n",
        "\n",
        "\n"
      ],
      "execution_count": 5,
      "outputs": []
    },
    {
      "cell_type": "markdown",
      "metadata": {
        "id": "adagNIVPp0fF"
      },
      "source": [
        "## 1b) Softmax\n",
        "\n",
        "En esta parte se programa la función `softmax`. Esta es una función tal que para una secuencia de valores $(x_1,\\ldots,x_n)$  el resultado de $\\text{softmax}(x_1,\\ldots,x_n)$ es otra secuencia $(s_1,\\ldots,s_n)$ que cumple con\n",
        "\\begin{equation}\n",
        "s_i = \\frac{e^{x_i}}{\\sum_{j=1}^{n}e^{x_j}}\n",
        "\\end{equation}\n",
        "Para esto, primero se demuestra que si a cada elemento de $(x_1,\\ldots,x_n)$ se le resta el mismo valor, entonces el resultado de `softmax` no varía. Es decir que $\\text{softmax}(x_1-M,\\ldots,x_n-M)=\\text{softmax}(x_1,\\ldots,x_n)$. Esto se usa para programar una versión de `softmax` que primero le resta a todos los elementos el máximo valor de la secuencia. Esta nueva versión debiera ser numéricamente más estable.\n",
        "\n",
        "La función recibe un tensor y el resultado de `softmax` debiera calcularse sobre alguna dimensión del tensor dejando todas las demás dimensiones fijas. Para esto la función recibe el parámetro `dim` (que indica la dimensión). El resultado de `softmax` es siempre un tensor de las mismas dimensiones de la entrada."
      ]
    },
    {
      "cell_type": "markdown",
      "metadata": {
        "id": "cxASBx5Emjed"
      },
      "source": [
        "![Captura de Pantalla 2020-09-28 a la(s) 18.22.36.png](data:image/png;base64,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)"
      ]
    },
    {
      "cell_type": "code",
      "metadata": {
        "id": "5hVvsHp-dGk4",
        "cellView": "code"
      },
      "source": [
        "def softmax(T, dim, estable=True):\n",
        "  \n",
        "  if estable == True:\n",
        "    M=torch.max(T)\n",
        "    T=T-M\n",
        "    \n",
        "  ex=torch.exp(T)\n",
        "  sumatoria= torch.sum(ex,dim,keepdim=True)\n",
        "  return torch.div(ex,sumatoria)"
      ],
      "execution_count": 6,
      "outputs": []
    },
    {
      "cell_type": "markdown",
      "metadata": {
        "id": "2m3i_1ijPLr_"
      },
      "source": [
        "# Parte 2: Red neuronal y pasada hacia adelante (forward)\n",
        "\n",
        "En esta parte se programará la red neuronal, en particular la pasada hacia adelante para una red que resolverá problemas de clasificación con varias clases. Supondremos que cada capa se verá de la forma\n",
        "\\begin{equation}\n",
        "h^{(\\ell)} = f^{(\\ell)}(h^{(\\ell-1)} W^{(\\ell)}+b^{(\\ell)})\n",
        "\\end{equation}\n",
        "y que la predicción final estará dada por\n",
        "\\begin{equation}\n",
        "\\hat{y} = \\text{softmax}(h^{(L)}U+c).\n",
        "\\end{equation}"
      ]
    },
    {
      "cell_type": "markdown",
      "metadata": {
        "id": "E_1cvyD9PiMY"
      },
      "source": [
        "## 2a) Clase para red neuronal\n",
        "\n",
        "La clase `FFNN` recibe en su inicializador los siguientes parámetros:\n",
        "\n",
        "*   Cantidad de neuronas de la capa de entrada `F`\n",
        "*   Lista de cantidades de neuronas en cada capa escondida `l_h`\n",
        "*   Lista de funciones de activación `l_a`\n",
        "*   Cantidad de neuronas de la capa de salida `C` (`C` $\\geq 2$)\n",
        "\n",
        "Una llamada de ejemplo para crear un objeto de la clase es:\n",
        "```python\n",
        "red_neuronal = FFNN(300,[50,30],[relu,sig],10)\n",
        "``` \n",
        "lo que debiera crear todos los parámetros para una red con 300 neuronas en la capa de entrada, luego una capa escondida de 50 neuronas con activación relu, luego una capa con 30 neuronas y activación sigmoid y finalmente una capa de 10 neuronas de salida. <br><br>"
      ]
    },
    {
      "cell_type": "code",
      "metadata": {
        "id": "eW3fhiQPTMLT"
      },
      "source": [
        "class FFNN(torch.nn.Module):\n",
        "  def __init__(self, F, l_h, l_a, C,cte=[]):\n",
        "    super(FFNN, self).__init__()\n",
        "    weightsList = []\n",
        "    biasList = []\n",
        "    activationList = l_a\n",
        "\n",
        "    weightsList.append(torch.nn.Parameter(torch.randn(F,l_h[0])))\n",
        "    for i in range(len(l_h)-1):\n",
        "      weightsList.append(torch.nn.Parameter(torch.randn(l_h[i],l_h[i+1])))\n",
        "      biasList.append(torch.nn.Parameter(torch.zeros(1,l_h[i])))\n",
        "    weightsList.append(torch.nn.Parameter(torch.randn(l_h[-1],C)))\n",
        "    biasList.append(torch.nn.Parameter(torch.zeros(1,C)))\n",
        "\n",
        "    self.biasList = torch.nn.ParameterList(biasList)\n",
        "    self.weightsList = torch.nn.ParameterList(weightsList)\n",
        "    self.activationList = l_a\n",
        "    self.cte=cte\n",
        "\n",
        "  def trained_weights(self, *wList):\n",
        "    weightsList=[]\n",
        "    for w in wList:\n",
        "      weightsList.append(torch.nn.Parameter(w))\n",
        "\n",
        "    self.weightsList = torch.nn.ParameterList(weightsList)\n",
        "\n",
        "  def trained_bias(self,*bList):\n",
        "    biasList=[]\n",
        "    for b in bList:\n",
        "      biasList.append(torch.nn.Parameter(b))\n",
        "    self.biasList = torch.nn.ParameterList(biasList)\n",
        "\n",
        "  def predict(self, output):\n",
        "    return torch.argmax(output,dim=1)\n",
        "  \n",
        "  #Iterador para mostrar/imprimir un resumen de los parámetros de la red\n",
        "  def resumen(self):\n",
        "    for name, param in self.named_parameters():\n",
        "      print(name)\n",
        "      print(param)\n",
        "      print(param.size())\n",
        "\n",
        "  #Computa la pasada hacia adelante\n",
        "  #La función recibe un tensor de dimensiones (B,F) como entrada donde \n",
        "  #B es el tamaño del mini paquete de ejemplos pasados a la red, y F la cantidad \n",
        "  #de features de cada ejemplo\n",
        "  # El resultado es un tensor de dimensiones (B,C) \n",
        "  #donde C representa la cantidad de clases a clasificar.\n",
        "  def forward(self, x):\n",
        "\n",
        "    result=x\n",
        "    \n",
        "    for i in range(len(self.weightsList)): ##for i in range(l_h+1)\n",
        "      result=torch.mm(result,self.weightsList[i]) + self.biasList[i]\n",
        "      cte_index=0\n",
        "      if i != len(self.weightsList)-1:\n",
        "        if self.activationList[i] == celu or self.activationList[i] == swish:\n",
        "          result=self.activationList[i](result, self.cte[cte_index])\n",
        "          cte_index +=1\n",
        "        else:\n",
        "          result=self.activationList[i](result)\n",
        "\n",
        "      else:\n",
        "        return softmax(result, dim=1)"
      ],
      "execution_count": 7,
      "outputs": []
    },
    {
      "cell_type": "markdown",
      "metadata": {
        "id": "VnyrrdzS4ICK"
      },
      "source": [
        "# Parte 3: Probando tu red con parámetros pre-entrenados para MNIST\n",
        "\n",
        "En esta parte se usará la pasada hacia adelante de la red con parámetros de una red pre-entrenada. La red fue entrenada con el conjunto de datos MNIST que contiene datos de dígitos escritos a mano. La versión original de los datos junto con una descripción del conjunto y resultados para distintos métodos de clasificación, se pueden encontrar en http://yann.lecun.com/exdb/mnist/"
      ]
    },
    {
      "cell_type": "markdown",
      "metadata": {
        "id": "V4YdUVgQIUWK"
      },
      "source": [
        "## 3a) Cargando y visualizando datos de MNIST\n",
        "\n",
        "Se descargan y procesan los datos de MNIST."
      ]
    },
    {
      "cell_type": "code",
      "metadata": {
        "id": "YE1iMUNfIT1r",
        "outputId": "0f257c4e-77fc-4ac6-dab4-38374bfa75e0",
        "colab": {
          "base_uri": "https://localhost:8080/",
          "height": 420,
          "referenced_widgets": [
            "71d0d7a67ca14aa1a654c8ae30ce700d",
            "f3410f3ac9b84bd9a1cec68e0dcd5975",
            "88ccbc6f91ec4c969e52a431202d1e17",
            "5b902afa1e7f4a3eacf7b79aedba3c84",
            "4adc2abd81b64bd6ab8ab72b080d340f",
            "eecd977823f14d4b8e944e026037f89b",
            "f1dcd776290040df9301cbbae72edf9e",
            "fe4ab694a1a841a5ad41ef39048fab22",
            "d531d01675664fe9ac49248829dcaecc",
            "738741a4cdf544439299f51f455f6ef9",
            "f06ef0dd70f34863b536e2ad341c6d83",
            "4e99c7d6c8314009a0cac0e6b02920a1",
            "21ccdf882f2341d99aa8a220b918c039",
            "10072576393a415596a9f3ef8edcdaf2",
            "e8d50c91d13c4f40b7b9f8a3a1469363",
            "991703e7c099448e9669418aafcd2d50",
            "852d20551d3f430395e3df38737a9e78",
            "7cf119798d8244c39b0912eb8bf2d200",
            "a498d2751ce7415cb09ce0adc79a87ad",
            "92e41b4bad9940c08f26854ff3ad3d28",
            "aef91d4c96254e29b2033e834710da0e",
            "71bd9ce8272043f9a6a6d0f033cc40b5",
            "be73831a52f14a73a3ca07adf46f27c2",
            "9a52c1b0554d41fead227e03e1b956e4",
            "dcdf2beb0e57495ea69948ab51e65923",
            "f1cd1f0ea0b344929bd946f57aa6db83",
            "ed0fc4c1bb02494091825c29929bae6f",
            "dbd91e76f4f0420393e5063c8663a65a",
            "c9861ccdf83e4e6592b2bf9f6ca9f5dc",
            "8ade4e906f964cb98250f5c35c0603c4",
            "6f4b71abe8a04b5dba3fa5df2cec089d",
            "39ae7391984d4de6b9113167a68cb17d"
          ]
        }
      },
      "source": [
        "# Importamos MNIST desde torchvision.\n",
        "from torchvision.datasets import MNIST\n",
        "\n",
        "# Importamos una función para convertir imágenes en tensores.\n",
        "from torchvision.transforms import ToTensor\n",
        "\n",
        "# Importamos funcionalidades útiles para mirar los datos.\n",
        "from matplotlib.pyplot import subplots\n",
        "import random \n",
        "from random import randint\n",
        "\n",
        "# Descarga y almacena el conjunto de prueba de MNIST.\n",
        "dataset = MNIST('mnist', download= True,train=False, transform=ToTensor())\n",
        "print('Cantidad total de datos:',len(dataset))"
      ],
      "execution_count": 8,
      "outputs": [
        {
          "output_type": "stream",
          "text": [
            "Downloading http://yann.lecun.com/exdb/mnist/train-images-idx3-ubyte.gz to mnist/MNIST/raw/train-images-idx3-ubyte.gz\n"
          ],
          "name": "stdout"
        },
        {
          "output_type": "display_data",
          "data": {
            "application/vnd.jupyter.widget-view+json": {
              "model_id": "71d0d7a67ca14aa1a654c8ae30ce700d",
              "version_minor": 0,
              "version_major": 2
            },
            "text/plain": [
              "HBox(children=(FloatProgress(value=1.0, bar_style='info', max=1.0), HTML(value='')))"
            ]
          },
          "metadata": {
            "tags": []
          }
        },
        {
          "output_type": "stream",
          "text": [
            "Extracting mnist/MNIST/raw/train-images-idx3-ubyte.gz to mnist/MNIST/raw\n",
            "Downloading http://yann.lecun.com/exdb/mnist/train-labels-idx1-ubyte.gz to mnist/MNIST/raw/train-labels-idx1-ubyte.gz\n"
          ],
          "name": "stdout"
        },
        {
          "output_type": "display_data",
          "data": {
            "application/vnd.jupyter.widget-view+json": {
              "model_id": "d531d01675664fe9ac49248829dcaecc",
              "version_minor": 0,
              "version_major": 2
            },
            "text/plain": [
              "HBox(children=(FloatProgress(value=1.0, bar_style='info', max=1.0), HTML(value='')))"
            ]
          },
          "metadata": {
            "tags": []
          }
        },
        {
          "output_type": "stream",
          "text": [
            "Extracting mnist/MNIST/raw/train-labels-idx1-ubyte.gz to mnist/MNIST/raw\n",
            "Downloading http://yann.lecun.com/exdb/mnist/t10k-images-idx3-ubyte.gz to mnist/MNIST/raw/t10k-images-idx3-ubyte.gz\n"
          ],
          "name": "stdout"
        },
        {
          "output_type": "display_data",
          "data": {
            "application/vnd.jupyter.widget-view+json": {
              "model_id": "852d20551d3f430395e3df38737a9e78",
              "version_minor": 0,
              "version_major": 2
            },
            "text/plain": [
              "HBox(children=(FloatProgress(value=1.0, bar_style='info', max=1.0), HTML(value='')))"
            ]
          },
          "metadata": {
            "tags": []
          }
        },
        {
          "output_type": "stream",
          "text": [
            "Extracting mnist/MNIST/raw/t10k-images-idx3-ubyte.gz to mnist/MNIST/raw\n",
            "Downloading http://yann.lecun.com/exdb/mnist/t10k-labels-idx1-ubyte.gz to mnist/MNIST/raw/t10k-labels-idx1-ubyte.gz\n",
            "\n",
            "\n"
          ],
          "name": "stdout"
        },
        {
          "output_type": "display_data",
          "data": {
            "application/vnd.jupyter.widget-view+json": {
              "model_id": "dcdf2beb0e57495ea69948ab51e65923",
              "version_minor": 0,
              "version_major": 2
            },
            "text/plain": [
              "HBox(children=(FloatProgress(value=1.0, bar_style='info', max=1.0), HTML(value='')))"
            ]
          },
          "metadata": {
            "tags": []
          }
        },
        {
          "output_type": "stream",
          "text": [
            "Extracting mnist/MNIST/raw/t10k-labels-idx1-ubyte.gz to mnist/MNIST/raw\n",
            "Processing...\n",
            "Done!\n",
            "Cantidad total de datos: 10000\n"
          ],
          "name": "stdout"
        },
        {
          "output_type": "stream",
          "text": [
            "/usr/local/lib/python3.6/dist-packages/torchvision/datasets/mnist.py:469: UserWarning: The given NumPy array is not writeable, and PyTorch does not support non-writeable tensors. This means you can write to the underlying (supposedly non-writeable) NumPy array using the tensor. You may want to copy the array to protect its data or make it writeable before converting it to a tensor. This type of warning will be suppressed for the rest of this program. (Triggered internally at  /pytorch/torch/csrc/utils/tensor_numpy.cpp:141.)\n",
            "  return torch.from_numpy(parsed.astype(m[2], copy=False)).view(*s)\n"
          ],
          "name": "stderr"
        }
      ]
    },
    {
      "cell_type": "markdown",
      "metadata": {
        "id": "XYGe_7Hp5Vy_"
      },
      "source": [
        "Los datos en todo dataset de pytorch se pueden acceder indexándolos como si fueran un arreglo. En el caso de MNIST cada dato es un par que contiene un tensor `T` y un entero `l`, en donde `T` representa a la imágen de un dígito, y `l` representa el valor numérico de ese dígito. Exploremos el primero de estos datos:"
      ]
    },
    {
      "cell_type": "code",
      "metadata": {
        "id": "YpmhWb6L5xS8",
        "outputId": "0a8ecd36-b4db-4c3c-dc1f-9ba4862ca62e",
        "colab": {
          "base_uri": "https://localhost:8080/"
        }
      },
      "source": [
        "T, l = dataset[0]\n",
        "\n",
        "print('Tensor')\n",
        "print('tipo:', T.type())\n",
        "print('dimensiones:', T.size())\n",
        "print()\n",
        "print('Entero')\n",
        "print('valor:', l)"
      ],
      "execution_count": 9,
      "outputs": [
        {
          "output_type": "stream",
          "text": [
            "Tensor\n",
            "tipo: torch.FloatTensor\n",
            "dimensiones: torch.Size([1, 28, 28])\n",
            "\n",
            "Entero\n",
            "valor: 7\n"
          ],
          "name": "stdout"
        }
      ]
    },
    {
      "cell_type": "markdown",
      "metadata": {
        "id": "uR309L2Q6zrT"
      },
      "source": [
        "El tensor `T` representa una imagen de 28x28 pixeles. Además la imagen que estamos considerando está en blanco y negro, por lo tanto tiene un solo canal de color. Esto resulta en un tensor de 1x28x28."
      ]
    },
    {
      "cell_type": "markdown",
      "metadata": {
        "id": "a44A1SkL9uaE"
      },
      "source": [
        "## 3b) Cargando los parámetros pre-entrenados\n",
        "\n",
        "Se usan archivos de texto que representan los parámetros de una red con 2 capas escondidas que fue pre-entrenada para clasificar los datos de MNIST. La red pre-entrenada tiene esta arquitectura\n",
        "\n",
        "784 --> 32 (relu) --> 16 (relu) --> 10 (softmax)\n",
        "\n",
        "La cantidad de neuronas en la capa de entrada es 28*28 = 784, esto porque la red espera un vector de características como input."
      ]
    },
    {
      "cell_type": "code",
      "metadata": {
        "id": "TZKEZOC42Avl",
        "outputId": "5e498ce3-75f2-4340-87fe-90a2030f7c65",
        "colab": {
          "base_uri": "https://localhost:8080/"
        }
      },
      "source": [
        "# Clone the entire repo.\n",
        "!git clone -l -s https://github.com/dccuchile/CC6204.git cloned-repo\n",
        "%cd cloned-repo\n",
        "%cd 2020\n",
        "%cd tareas\n",
        "%cd tarea1\n",
        "%cd mnist_weights"
      ],
      "execution_count": 10,
      "outputs": [
        {
          "output_type": "stream",
          "text": [
            "Cloning into 'cloned-repo'...\n",
            "warning: --local is ignored\n",
            "remote: Enumerating objects: 5, done.\u001b[K\n",
            "remote: Counting objects: 100% (5/5), done.\u001b[K\n",
            "remote: Compressing objects: 100% (5/5), done.\u001b[K\n",
            "remote: Total 6159 (delta 0), reused 1 (delta 0), pack-reused 6154\u001b[K\n",
            "Receiving objects: 100% (6159/6159), 7.30 MiB | 24.04 MiB/s, done.\n",
            "Resolving deltas: 100% (2977/2977), done.\n",
            "/content/cloned-repo\n",
            "/content/cloned-repo/2020\n",
            "/content/cloned-repo/2020/tareas\n",
            "/content/cloned-repo/2020/tareas/tarea1\n",
            "/content/cloned-repo/2020/tareas/tarea1/mnist_weights\n"
          ],
          "name": "stdout"
        }
      ]
    },
    {
      "cell_type": "code",
      "metadata": {
        "id": "xx_F1Vs09vFS"
      },
      "source": [
        "import numpy as np\n",
        "from numpy import loadtxt\n",
        "\n",
        "F=784\n",
        "l_h=[32,16]\n",
        "l_a=[relu,relu]\n",
        "C=10\n",
        "\n",
        "\n",
        "W1 = torch.from_numpy(loadtxt('W1.txt')).float()\n",
        "W2 = torch.from_numpy(loadtxt('W2.txt')).float()\n",
        "b1 = torch.from_numpy(loadtxt('b1.txt')).float()\n",
        "b2 = torch.from_numpy(loadtxt('b2.txt')).float()\n",
        "U = torch.from_numpy(loadtxt('U.txt')).float()\n",
        "c = torch.from_numpy(loadtxt('c.txt')).float()\n",
        "\n",
        "W1=W1.to('cuda')\n",
        "W2=W2.to('cuda')\n",
        "b1=b1.to('cuda')\n",
        "b2=b2.to('cuda')\n",
        "U=U.to('cuda')\n",
        "c=c.to('cuda')\n",
        "\n",
        "NN=FFNN(F,l_h,l_a,C,2)\n",
        "NN.trained_weights(W1,W2,U)\n",
        "NN.trained_bias(b1,b2,c)"
      ],
      "execution_count": 11,
      "outputs": []
    },
    {
      "cell_type": "markdown",
      "metadata": {
        "id": "mHJ1TkNhBIjK"
      },
      "source": [
        "## 3c) Calcula la predicción de un ejemplo al azar\n",
        "\n",
        "Se muestra la predicción que entrega la red para un ejemplo al azar del conjunto de datos y muestra también la imágen y la clase real del ejemplo."
      ]
    },
    {
      "cell_type": "code",
      "metadata": {
        "id": "3xWZ19i0BH0a",
        "outputId": "beed426e-b2a1-499a-efb0-7431a66c2f36",
        "colab": {
          "base_uri": "https://localhost:8080/",
          "height": 193
        }
      },
      "source": [
        "import random\n",
        "from matplotlib.pyplot import subplots\n",
        "\n",
        "fig, axs = subplots(nrows=1, figsize=(2,3))\n",
        " \n",
        "idx = random.randint(0,len(dataset))\n",
        "T, l = dataset[idx]\n",
        "\n",
        "T=T.view(1,784)\n",
        "T=T.to('cuda')\n",
        "\n",
        "prediction=NN.predict(NN.forward(T))\n",
        "prediction=prediction.to('cpu')\n",
        "prediction=prediction.numpy()\n",
        "\n",
        "T=T.to('cpu')\n",
        "img = T.view(28,28).numpy()\n",
        "axs.set_title(\"clase: \"+ str(l)+\", prediction: \" + str(prediction[0]))\n",
        "axs.imshow(img)"
      ],
      "execution_count": 12,
      "outputs": [
        {
          "output_type": "execute_result",
          "data": {
            "text/plain": [
              "<matplotlib.image.AxesImage at 0x7fcbc76245c0>"
            ]
          },
          "metadata": {
            "tags": []
          },
          "execution_count": 12
        },
        {
          "output_type": "display_data",
          "data": {
            "image/png": "[encoded data removed]",
            "text/plain": [
              "<Figure size 144x216 with 1 Axes>"
            ]
          },
          "metadata": {
            "tags": [],
            "needs_background": "light"
          }
        }
      ]
    },
    {
      "cell_type": "markdown",
      "metadata": {
        "id": "7R_2hUZjByHI"
      },
      "source": [
        "## 3d) Pasando todos los ejemplos por la red con un `DataLoader`\n",
        "\n",
        "Un `DataLoader` en pytorch es una manera muy útil de entregarle paquetes de ejemplos a una red. Será especialmente útil cuando estemos entrenando. Por ahora lo usaremos sólo para computar la predicción de la red pre-entrenada y calcular el porcentaje de acierto.\n",
        "\n",
        "Para crear un `DataLoader` solo se debe especificar el conjunto de datos que se usará en la forma de un objeto `DataSet`, y el tamaño del paquete de cada paquete que usaremos. En el siguiente código estamos creando un `DataLoader` desde nuestro objeto `dataset` con paquetes de tamaño 100.\n",
        "\n",
        "```python\n",
        "from torch.utils.data import DataLoader\n",
        "dataloader = DataLoader(dataset, batch_size=100)\n",
        "```\n",
        "\n",
        "Una vez creado podemos iterar por todo el dataset haciendo simplemente:\n",
        "\n",
        "```python\n",
        "for x, y in dataloader:\n",
        "  # lo que necesitemos hacer con los datos\n",
        "```\n",
        "\n",
        "En cada iteración `x` será un tensor con 100 ejemplos, por lo tanto tendrá dimensiones 100 x 1 x 28 x 28, e `y` será un tensor con las clases correspondientes a cada uno de esos ejemplos, por lo tanto tendrá dimensión 100 (es un tensor con 100 valores enteros).\n",
        "\n",
        "Se programa una función que usa un `DataLoader` para pasar todos los ejemplos por la red en paquetes y calcular el porcentaje total de acierto que la red obtiene en la predicción. La función recibe a la red con los parámetros cargados, el dataset que se usará, el tamaño del batch para pasar por la red y si el trabajo debe hacerse en la GPU o en la CPU."
      ]
    },
    {
      "cell_type": "code",
      "metadata": {
        "id": "gWdYn-UPGMQf",
        "outputId": "df6f4cf8-0964-49c9-a437-bbde262ad434",
        "colab": {
          "base_uri": "https://localhost:8080/"
        }
      },
      "source": [
        "from torch.utils.data import DataLoader\n",
        "dataloader = DataLoader(dataset, batch_size=100)\n",
        "\n",
        "# Acá tu código\n",
        "def calcula_acierto(red, dataset, batch_size=100, device='cuda'):\n",
        "  success=0\n",
        "  samples=0\n",
        "  dataloader = DataLoader(dataset, batch_size=100)\n",
        "  red.to(device)\n",
        "  for x, y in dataloader:\n",
        "    y=y.to(device)\n",
        "    x=x.view(100,784)\n",
        "    x=x.to(device)\n",
        "    output=red.forward(x)\n",
        "    prediction=torch.argmax(output,dim=1)\n",
        "    success+=torch.eq(prediction,y).sum()\n",
        "    samples+=torch.numel(y)\n",
        "\n",
        "  success=success.to('cpu')\n",
        "  success=success.numpy()\n",
        "\n",
        "  print(samples)\n",
        "\n",
        "  success_percentage= success/samples\n",
        "  return success_percentage\n",
        "    \n",
        "\n",
        "calcula_acierto(NN,dataset)\n"
      ],
      "execution_count": 13,
      "outputs": [
        {
          "output_type": "stream",
          "text": [
            "10000\n"
          ],
          "name": "stdout"
        },
        {
          "output_type": "execute_result",
          "data": {
            "text/plain": [
              "0.9612"
            ]
          },
          "metadata": {
            "tags": []
          },
          "execution_count": 13
        }
      ]
    }
  ]
}