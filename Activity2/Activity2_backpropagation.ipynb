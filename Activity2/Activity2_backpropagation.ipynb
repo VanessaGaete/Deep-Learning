{
  "nbformat": 4,
  "nbformat_minor": 0,
  "metadata": {
    "colab": {
      "name": "Activity2_backpropagation",
      "provenance": [],
      "collapsed_sections": []
    },
    "kernelspec": {
      "display_name": "Python 3",
      "language": "python",
      "name": "python3"
    },
    "language_info": {
      "codemirror_mode": {
        "name": "ipython",
        "version": 3
      },
      "file_extension": ".py",
      "mimetype": "text/x-python",
      "name": "python",
      "nbconvert_exporter": "python",
      "pygments_lexer": "ipython3",
      "version": "3.6.8"
    },
    "accelerator": "GPU",
    "widgets": {
      "application/vnd.jupyter.widget-state+json": {
        "15718b79a3f54ce69e991cf391d467bf": {
          "model_module": "@jupyter-widgets/controls",
          "model_name": "HBoxModel",
          "state": {
            "_view_name": "HBoxView",
            "_dom_classes": [],
            "_model_name": "HBoxModel",
            "_view_module": "@jupyter-widgets/controls",
            "_model_module_version": "1.5.0",
            "_view_count": null,
            "_view_module_version": "1.5.0",
            "box_style": "",
            "layout": "IPY_MODEL_801d4f7e7c7643b2a7a73efe21ddb424",
            "_model_module": "@jupyter-widgets/controls",
            "children": [
              "IPY_MODEL_a900ee3dddd44a4bb8114fcbd5c088b6",
              "IPY_MODEL_eb161554edee49e79fdcfb750ca82abb"
            ]
          }
        },
        "801d4f7e7c7643b2a7a73efe21ddb424": {
          "model_module": "@jupyter-widgets/base",
          "model_name": "LayoutModel",
          "state": {
            "_view_name": "LayoutView",
            "grid_template_rows": null,
            "right": null,
            "justify_content": null,
            "_view_module": "@jupyter-widgets/base",
            "overflow": null,
            "_model_module_version": "1.2.0",
            "_view_count": null,
            "flex_flow": null,
            "width": null,
            "min_width": null,
            "border": null,
            "align_items": null,
            "bottom": null,
            "_model_module": "@jupyter-widgets/base",
            "top": null,
            "grid_column": null,
            "overflow_y": null,
            "overflow_x": null,
            "grid_auto_flow": null,
            "grid_area": null,
            "grid_template_columns": null,
            "flex": null,
            "_model_name": "LayoutModel",
            "justify_items": null,
            "grid_row": null,
            "max_height": null,
            "align_content": null,
            "visibility": null,
            "align_self": null,
            "height": null,
            "min_height": null,
            "padding": null,
            "grid_auto_rows": null,
            "grid_gap": null,
            "max_width": null,
            "order": null,
            "_view_module_version": "1.2.0",
            "grid_template_areas": null,
            "object_position": null,
            "object_fit": null,
            "grid_auto_columns": null,
            "margin": null,
            "display": null,
            "left": null
          }
        },
        "a900ee3dddd44a4bb8114fcbd5c088b6": {
          "model_module": "@jupyter-widgets/controls",
          "model_name": "FloatProgressModel",
          "state": {
            "_view_name": "ProgressView",
            "style": "IPY_MODEL_633f2f388ec341ed9734a6d104652998",
            "_dom_classes": [],
            "description": "",
            "_model_name": "FloatProgressModel",
            "bar_style": "info",
            "max": 1,
            "_view_module": "@jupyter-widgets/controls",
            "_model_module_version": "1.5.0",
            "value": 1,
            "_view_count": null,
            "_view_module_version": "1.5.0",
            "orientation": "horizontal",
            "min": 0,
            "description_tooltip": null,
            "_model_module": "@jupyter-widgets/controls",
            "layout": "IPY_MODEL_3f93cb2a27d2441eb5854e3cd733822d"
          }
        },
        "eb161554edee49e79fdcfb750ca82abb": {
          "model_module": "@jupyter-widgets/controls",
          "model_name": "HTMLModel",
          "state": {
            "_view_name": "HTMLView",
            "style": "IPY_MODEL_1bf4dc508e8f4aad82a16ac888a5f0bb",
            "_dom_classes": [],
            "description": "",
            "_model_name": "HTMLModel",
            "placeholder": "​",
            "_view_module": "@jupyter-widgets/controls",
            "_model_module_version": "1.5.0",
            "value": " 9920512/? [00:20&lt;00:00, 175756.47it/s]",
            "_view_count": null,
            "_view_module_version": "1.5.0",
            "description_tooltip": null,
            "_model_module": "@jupyter-widgets/controls",
            "layout": "IPY_MODEL_06c4488986a24f509a0fc895fe799512"
          }
        },
        "633f2f388ec341ed9734a6d104652998": {
          "model_module": "@jupyter-widgets/controls",
          "model_name": "ProgressStyleModel",
          "state": {
            "_view_name": "StyleView",
            "_model_name": "ProgressStyleModel",
            "description_width": "initial",
            "_view_module": "@jupyter-widgets/base",
            "_model_module_version": "1.5.0",
            "_view_count": null,
            "_view_module_version": "1.2.0",
            "bar_color": null,
            "_model_module": "@jupyter-widgets/controls"
          }
        },
        "3f93cb2a27d2441eb5854e3cd733822d": {
          "model_module": "@jupyter-widgets/base",
          "model_name": "LayoutModel",
          "state": {
            "_view_name": "LayoutView",
            "grid_template_rows": null,
            "right": null,
            "justify_content": null,
            "_view_module": "@jupyter-widgets/base",
            "overflow": null,
            "_model_module_version": "1.2.0",
            "_view_count": null,
            "flex_flow": null,
            "width": null,
            "min_width": null,
            "border": null,
            "align_items": null,
            "bottom": null,
            "_model_module": "@jupyter-widgets/base",
            "top": null,
            "grid_column": null,
            "overflow_y": null,
            "overflow_x": null,
            "grid_auto_flow": null,
            "grid_area": null,
            "grid_template_columns": null,
            "flex": null,
            "_model_name": "LayoutModel",
            "justify_items": null,
            "grid_row": null,
            "max_height": null,
            "align_content": null,
            "visibility": null,
            "align_self": null,
            "height": null,
            "min_height": null,
            "padding": null,
            "grid_auto_rows": null,
            "grid_gap": null,
            "max_width": null,
            "order": null,
            "_view_module_version": "1.2.0",
            "grid_template_areas": null,
            "object_position": null,
            "object_fit": null,
            "grid_auto_columns": null,
            "margin": null,
            "display": null,
            "left": null
          }
        },
        "1bf4dc508e8f4aad82a16ac888a5f0bb": {
          "model_module": "@jupyter-widgets/controls",
          "model_name": "DescriptionStyleModel",
          "state": {
            "_view_name": "StyleView",
            "_model_name": "DescriptionStyleModel",
            "description_width": "",
            "_view_module": "@jupyter-widgets/base",
            "_model_module_version": "1.5.0",
            "_view_count": null,
            "_view_module_version": "1.2.0",
            "_model_module": "@jupyter-widgets/controls"
          }
        },
        "06c4488986a24f509a0fc895fe799512": {
          "model_module": "@jupyter-widgets/base",
          "model_name": "LayoutModel",
          "state": {
            "_view_name": "LayoutView",
            "grid_template_rows": null,
            "right": null,
            "justify_content": null,
            "_view_module": "@jupyter-widgets/base",
            "overflow": null,
            "_model_module_version": "1.2.0",
            "_view_count": null,
            "flex_flow": null,
            "width": null,
            "min_width": null,
            "border": null,
            "align_items": null,
            "bottom": null,
            "_model_module": "@jupyter-widgets/base",
            "top": null,
            "grid_column": null,
            "overflow_y": null,
            "overflow_x": null,
            "grid_auto_flow": null,
            "grid_area": null,
            "grid_template_columns": null,
            "flex": null,
            "_model_name": "LayoutModel",
            "justify_items": null,
            "grid_row": null,
            "max_height": null,
            "align_content": null,
            "visibility": null,
            "align_self": null,
            "height": null,
            "min_height": null,
            "padding": null,
            "grid_auto_rows": null,
            "grid_gap": null,
            "max_width": null,
            "order": null,
            "_view_module_version": "1.2.0",
            "grid_template_areas": null,
            "object_position": null,
            "object_fit": null,
            "grid_auto_columns": null,
            "margin": null,
            "display": null,
            "left": null
          }
        },
        "12171fcecec94cbe88bf54ff4980c483": {
          "model_module": "@jupyter-widgets/controls",
          "model_name": "HBoxModel",
          "state": {
            "_view_name": "HBoxView",
            "_dom_classes": [],
            "_model_name": "HBoxModel",
            "_view_module": "@jupyter-widgets/controls",
            "_model_module_version": "1.5.0",
            "_view_count": null,
            "_view_module_version": "1.5.0",
            "box_style": "",
            "layout": "IPY_MODEL_c8c5084632d04b96b3bbd5cb1a8e69e5",
            "_model_module": "@jupyter-widgets/controls",
            "children": [
              "IPY_MODEL_d5bd024a472b44c5a92efc648b33f4ad",
              "IPY_MODEL_433c7f3e279d45d4b24289e371ec7f9a"
            ]
          }
        },
        "c8c5084632d04b96b3bbd5cb1a8e69e5": {
          "model_module": "@jupyter-widgets/base",
          "model_name": "LayoutModel",
          "state": {
            "_view_name": "LayoutView",
            "grid_template_rows": null,
            "right": null,
            "justify_content": null,
            "_view_module": "@jupyter-widgets/base",
            "overflow": null,
            "_model_module_version": "1.2.0",
            "_view_count": null,
            "flex_flow": null,
            "width": null,
            "min_width": null,
            "border": null,
            "align_items": null,
            "bottom": null,
            "_model_module": "@jupyter-widgets/base",
            "top": null,
            "grid_column": null,
            "overflow_y": null,
            "overflow_x": null,
            "grid_auto_flow": null,
            "grid_area": null,
            "grid_template_columns": null,
            "flex": null,
            "_model_name": "LayoutModel",
            "justify_items": null,
            "grid_row": null,
            "max_height": null,
            "align_content": null,
            "visibility": null,
            "align_self": null,
            "height": null,
            "min_height": null,
            "padding": null,
            "grid_auto_rows": null,
            "grid_gap": null,
            "max_width": null,
            "order": null,
            "_view_module_version": "1.2.0",
            "grid_template_areas": null,
            "object_position": null,
            "object_fit": null,
            "grid_auto_columns": null,
            "margin": null,
            "display": null,
            "left": null
          }
        },
        "d5bd024a472b44c5a92efc648b33f4ad": {
          "model_module": "@jupyter-widgets/controls",
          "model_name": "FloatProgressModel",
          "state": {
            "_view_name": "ProgressView",
            "style": "IPY_MODEL_d9d2c62fe328495a849f80b8094cb027",
            "_dom_classes": [],
            "description": "",
            "_model_name": "FloatProgressModel",
            "bar_style": "success",
            "max": 1,
            "_view_module": "@jupyter-widgets/controls",
            "_model_module_version": "1.5.0",
            "value": 1,
            "_view_count": null,
            "_view_module_version": "1.5.0",
            "orientation": "horizontal",
            "min": 0,
            "description_tooltip": null,
            "_model_module": "@jupyter-widgets/controls",
            "layout": "IPY_MODEL_92c6b11834cf424cafa76a602b38fbe1"
          }
        },
        "433c7f3e279d45d4b24289e371ec7f9a": {
          "model_module": "@jupyter-widgets/controls",
          "model_name": "HTMLModel",
          "state": {
            "_view_name": "HTMLView",
            "style": "IPY_MODEL_9d46de78d30642a68cf8671a722d6382",
            "_dom_classes": [],
            "description": "",
            "_model_name": "HTMLModel",
            "placeholder": "​",
            "_view_module": "@jupyter-widgets/controls",
            "_model_module_version": "1.5.0",
            "value": " 32768/? [00:00&lt;00:00, 361870.96it/s]",
            "_view_count": null,
            "_view_module_version": "1.5.0",
            "description_tooltip": null,
            "_model_module": "@jupyter-widgets/controls",
            "layout": "IPY_MODEL_921c07f1d34f4911b49d3c4f33fd755d"
          }
        },
        "d9d2c62fe328495a849f80b8094cb027": {
          "model_module": "@jupyter-widgets/controls",
          "model_name": "ProgressStyleModel",
          "state": {
            "_view_name": "StyleView",
            "_model_name": "ProgressStyleModel",
            "description_width": "initial",
            "_view_module": "@jupyter-widgets/base",
            "_model_module_version": "1.5.0",
            "_view_count": null,
            "_view_module_version": "1.2.0",
            "bar_color": null,
            "_model_module": "@jupyter-widgets/controls"
          }
        },
        "92c6b11834cf424cafa76a602b38fbe1": {
          "model_module": "@jupyter-widgets/base",
          "model_name": "LayoutModel",
          "state": {
            "_view_name": "LayoutView",
            "grid_template_rows": null,
            "right": null,
            "justify_content": null,
            "_view_module": "@jupyter-widgets/base",
            "overflow": null,
            "_model_module_version": "1.2.0",
            "_view_count": null,
            "flex_flow": null,
            "width": null,
            "min_width": null,
            "border": null,
            "align_items": null,
            "bottom": null,
            "_model_module": "@jupyter-widgets/base",
            "top": null,
            "grid_column": null,
            "overflow_y": null,
            "overflow_x": null,
            "grid_auto_flow": null,
            "grid_area": null,
            "grid_template_columns": null,
            "flex": null,
            "_model_name": "LayoutModel",
            "justify_items": null,
            "grid_row": null,
            "max_height": null,
            "align_content": null,
            "visibility": null,
            "align_self": null,
            "height": null,
            "min_height": null,
            "padding": null,
            "grid_auto_rows": null,
            "grid_gap": null,
            "max_width": null,
            "order": null,
            "_view_module_version": "1.2.0",
            "grid_template_areas": null,
            "object_position": null,
            "object_fit": null,
            "grid_auto_columns": null,
            "margin": null,
            "display": null,
            "left": null
          }
        },
        "9d46de78d30642a68cf8671a722d6382": {
          "model_module": "@jupyter-widgets/controls",
          "model_name": "DescriptionStyleModel",
          "state": {
            "_view_name": "StyleView",
            "_model_name": "DescriptionStyleModel",
            "description_width": "",
            "_view_module": "@jupyter-widgets/base",
            "_model_module_version": "1.5.0",
            "_view_count": null,
            "_view_module_version": "1.2.0",
            "_model_module": "@jupyter-widgets/controls"
          }
        },
        "921c07f1d34f4911b49d3c4f33fd755d": {
          "model_module": "@jupyter-widgets/base",
          "model_name": "LayoutModel",
          "state": {
            "_view_name": "LayoutView",
            "grid_template_rows": null,
            "right": null,
            "justify_content": null,
            "_view_module": "@jupyter-widgets/base",
            "overflow": null,
            "_model_module_version": "1.2.0",
            "_view_count": null,
            "flex_flow": null,
            "width": null,
            "min_width": null,
            "border": null,
            "align_items": null,
            "bottom": null,
            "_model_module": "@jupyter-widgets/base",
            "top": null,
            "grid_column": null,
            "overflow_y": null,
            "overflow_x": null,
            "grid_auto_flow": null,
            "grid_area": null,
            "grid_template_columns": null,
            "flex": null,
            "_model_name": "LayoutModel",
            "justify_items": null,
            "grid_row": null,
            "max_height": null,
            "align_content": null,
            "visibility": null,
            "align_self": null,
            "height": null,
            "min_height": null,
            "padding": null,
            "grid_auto_rows": null,
            "grid_gap": null,
            "max_width": null,
            "order": null,
            "_view_module_version": "1.2.0",
            "grid_template_areas": null,
            "object_position": null,
            "object_fit": null,
            "grid_auto_columns": null,
            "margin": null,
            "display": null,
            "left": null
          }
        },
        "1d0ef940164d41e399526bb0346316ac": {
          "model_module": "@jupyter-widgets/controls",
          "model_name": "HBoxModel",
          "state": {
            "_view_name": "HBoxView",
            "_dom_classes": [],
            "_model_name": "HBoxModel",
            "_view_module": "@jupyter-widgets/controls",
            "_model_module_version": "1.5.0",
            "_view_count": null,
            "_view_module_version": "1.5.0",
            "box_style": "",
            "layout": "IPY_MODEL_4bed95669b4b44b190cdf7f507ecba91",
            "_model_module": "@jupyter-widgets/controls",
            "children": [
              "IPY_MODEL_3fc01186c794444f8b7583ff6f03e3f9",
              "IPY_MODEL_5acb0432ea9c4fdb95d9979027395922"
            ]
          }
        },
        "4bed95669b4b44b190cdf7f507ecba91": {
          "model_module": "@jupyter-widgets/base",
          "model_name": "LayoutModel",
          "state": {
            "_view_name": "LayoutView",
            "grid_template_rows": null,
            "right": null,
            "justify_content": null,
            "_view_module": "@jupyter-widgets/base",
            "overflow": null,
            "_model_module_version": "1.2.0",
            "_view_count": null,
            "flex_flow": null,
            "width": null,
            "min_width": null,
            "border": null,
            "align_items": null,
            "bottom": null,
            "_model_module": "@jupyter-widgets/base",
            "top": null,
            "grid_column": null,
            "overflow_y": null,
            "overflow_x": null,
            "grid_auto_flow": null,
            "grid_area": null,
            "grid_template_columns": null,
            "flex": null,
            "_model_name": "LayoutModel",
            "justify_items": null,
            "grid_row": null,
            "max_height": null,
            "align_content": null,
            "visibility": null,
            "align_self": null,
            "height": null,
            "min_height": null,
            "padding": null,
            "grid_auto_rows": null,
            "grid_gap": null,
            "max_width": null,
            "order": null,
            "_view_module_version": "1.2.0",
            "grid_template_areas": null,
            "object_position": null,
            "object_fit": null,
            "grid_auto_columns": null,
            "margin": null,
            "display": null,
            "left": null
          }
        },
        "3fc01186c794444f8b7583ff6f03e3f9": {
          "model_module": "@jupyter-widgets/controls",
          "model_name": "FloatProgressModel",
          "state": {
            "_view_name": "ProgressView",
            "style": "IPY_MODEL_8e6f68d3e7f44d07b3d7858caadc4092",
            "_dom_classes": [],
            "description": "",
            "_model_name": "FloatProgressModel",
            "bar_style": "info",
            "max": 1,
            "_view_module": "@jupyter-widgets/controls",
            "_model_module_version": "1.5.0",
            "value": 1,
            "_view_count": null,
            "_view_module_version": "1.5.0",
            "orientation": "horizontal",
            "min": 0,
            "description_tooltip": null,
            "_model_module": "@jupyter-widgets/controls",
            "layout": "IPY_MODEL_79fd53df2db44cb89a16dad368a4ba8e"
          }
        },
        "5acb0432ea9c4fdb95d9979027395922": {
          "model_module": "@jupyter-widgets/controls",
          "model_name": "HTMLModel",
          "state": {
            "_view_name": "HTMLView",
            "style": "IPY_MODEL_d3fe58561850444aab374c7fd03233db",
            "_dom_classes": [],
            "description": "",
            "_model_name": "HTMLModel",
            "placeholder": "​",
            "_view_module": "@jupyter-widgets/controls",
            "_model_module_version": "1.5.0",
            "value": " 1654784/? [00:19&lt;00:00, 146477.81it/s]",
            "_view_count": null,
            "_view_module_version": "1.5.0",
            "description_tooltip": null,
            "_model_module": "@jupyter-widgets/controls",
            "layout": "IPY_MODEL_0c3a474b7fa84010b6cfe0965f8036e4"
          }
        },
        "8e6f68d3e7f44d07b3d7858caadc4092": {
          "model_module": "@jupyter-widgets/controls",
          "model_name": "ProgressStyleModel",
          "state": {
            "_view_name": "StyleView",
            "_model_name": "ProgressStyleModel",
            "description_width": "initial",
            "_view_module": "@jupyter-widgets/base",
            "_model_module_version": "1.5.0",
            "_view_count": null,
            "_view_module_version": "1.2.0",
            "bar_color": null,
            "_model_module": "@jupyter-widgets/controls"
          }
        },
        "79fd53df2db44cb89a16dad368a4ba8e": {
          "model_module": "@jupyter-widgets/base",
          "model_name": "LayoutModel",
          "state": {
            "_view_name": "LayoutView",
            "grid_template_rows": null,
            "right": null,
            "justify_content": null,
            "_view_module": "@jupyter-widgets/base",
            "overflow": null,
            "_model_module_version": "1.2.0",
            "_view_count": null,
            "flex_flow": null,
            "width": null,
            "min_width": null,
            "border": null,
            "align_items": null,
            "bottom": null,
            "_model_module": "@jupyter-widgets/base",
            "top": null,
            "grid_column": null,
            "overflow_y": null,
            "overflow_x": null,
            "grid_auto_flow": null,
            "grid_area": null,
            "grid_template_columns": null,
            "flex": null,
            "_model_name": "LayoutModel",
            "justify_items": null,
            "grid_row": null,
            "max_height": null,
            "align_content": null,
            "visibility": null,
            "align_self": null,
            "height": null,
            "min_height": null,
            "padding": null,
            "grid_auto_rows": null,
            "grid_gap": null,
            "max_width": null,
            "order": null,
            "_view_module_version": "1.2.0",
            "grid_template_areas": null,
            "object_position": null,
            "object_fit": null,
            "grid_auto_columns": null,
            "margin": null,
            "display": null,
            "left": null
          }
        },
        "d3fe58561850444aab374c7fd03233db": {
          "model_module": "@jupyter-widgets/controls",
          "model_name": "DescriptionStyleModel",
          "state": {
            "_view_name": "StyleView",
            "_model_name": "DescriptionStyleModel",
            "description_width": "",
            "_view_module": "@jupyter-widgets/base",
            "_model_module_version": "1.5.0",
            "_view_count": null,
            "_view_module_version": "1.2.0",
            "_model_module": "@jupyter-widgets/controls"
          }
        },
        "0c3a474b7fa84010b6cfe0965f8036e4": {
          "model_module": "@jupyter-widgets/base",
          "model_name": "LayoutModel",
          "state": {
            "_view_name": "LayoutView",
            "grid_template_rows": null,
            "right": null,
            "justify_content": null,
            "_view_module": "@jupyter-widgets/base",
            "overflow": null,
            "_model_module_version": "1.2.0",
            "_view_count": null,
            "flex_flow": null,
            "width": null,
            "min_width": null,
            "border": null,
            "align_items": null,
            "bottom": null,
            "_model_module": "@jupyter-widgets/base",
            "top": null,
            "grid_column": null,
            "overflow_y": null,
            "overflow_x": null,
            "grid_auto_flow": null,
            "grid_area": null,
            "grid_template_columns": null,
            "flex": null,
            "_model_name": "LayoutModel",
            "justify_items": null,
            "grid_row": null,
            "max_height": null,
            "align_content": null,
            "visibility": null,
            "align_self": null,
            "height": null,
            "min_height": null,
            "padding": null,
            "grid_auto_rows": null,
            "grid_gap": null,
            "max_width": null,
            "order": null,
            "_view_module_version": "1.2.0",
            "grid_template_areas": null,
            "object_position": null,
            "object_fit": null,
            "grid_auto_columns": null,
            "margin": null,
            "display": null,
            "left": null
          }
        },
        "bf85746a1fdf40fd8076d6960d8166e4": {
          "model_module": "@jupyter-widgets/controls",
          "model_name": "HBoxModel",
          "state": {
            "_view_name": "HBoxView",
            "_dom_classes": [],
            "_model_name": "HBoxModel",
            "_view_module": "@jupyter-widgets/controls",
            "_model_module_version": "1.5.0",
            "_view_count": null,
            "_view_module_version": "1.5.0",
            "box_style": "",
            "layout": "IPY_MODEL_be237a03111343e392ee0bbd8609ee46",
            "_model_module": "@jupyter-widgets/controls",
            "children": [
              "IPY_MODEL_cc757888be894f1292869327d370dbf9",
              "IPY_MODEL_ba24edd404c44b1190c2f0361f32a614"
            ]
          }
        },
        "be237a03111343e392ee0bbd8609ee46": {
          "model_module": "@jupyter-widgets/base",
          "model_name": "LayoutModel",
          "state": {
            "_view_name": "LayoutView",
            "grid_template_rows": null,
            "right": null,
            "justify_content": null,
            "_view_module": "@jupyter-widgets/base",
            "overflow": null,
            "_model_module_version": "1.2.0",
            "_view_count": null,
            "flex_flow": null,
            "width": null,
            "min_width": null,
            "border": null,
            "align_items": null,
            "bottom": null,
            "_model_module": "@jupyter-widgets/base",
            "top": null,
            "grid_column": null,
            "overflow_y": null,
            "overflow_x": null,
            "grid_auto_flow": null,
            "grid_area": null,
            "grid_template_columns": null,
            "flex": null,
            "_model_name": "LayoutModel",
            "justify_items": null,
            "grid_row": null,
            "max_height": null,
            "align_content": null,
            "visibility": null,
            "align_self": null,
            "height": null,
            "min_height": null,
            "padding": null,
            "grid_auto_rows": null,
            "grid_gap": null,
            "max_width": null,
            "order": null,
            "_view_module_version": "1.2.0",
            "grid_template_areas": null,
            "object_position": null,
            "object_fit": null,
            "grid_auto_columns": null,
            "margin": null,
            "display": null,
            "left": null
          }
        },
        "cc757888be894f1292869327d370dbf9": {
          "model_module": "@jupyter-widgets/controls",
          "model_name": "FloatProgressModel",
          "state": {
            "_view_name": "ProgressView",
            "style": "IPY_MODEL_1694ac1976314276aa9ecdbb200c06af",
            "_dom_classes": [],
            "description": "",
            "_model_name": "FloatProgressModel",
            "bar_style": "success",
            "max": 1,
            "_view_module": "@jupyter-widgets/controls",
            "_model_module_version": "1.5.0",
            "value": 1,
            "_view_count": null,
            "_view_module_version": "1.5.0",
            "orientation": "horizontal",
            "min": 0,
            "description_tooltip": null,
            "_model_module": "@jupyter-widgets/controls",
            "layout": "IPY_MODEL_adc7eb0a8b444e488e0fce0676a0bb53"
          }
        },
        "ba24edd404c44b1190c2f0361f32a614": {
          "model_module": "@jupyter-widgets/controls",
          "model_name": "HTMLModel",
          "state": {
            "_view_name": "HTMLView",
            "style": "IPY_MODEL_c24b3aae8d5d42c6b7de4fd3100e9533",
            "_dom_classes": [],
            "description": "",
            "_model_name": "HTMLModel",
            "placeholder": "​",
            "_view_module": "@jupyter-widgets/controls",
            "_model_module_version": "1.5.0",
            "value": " 8192/? [00:00&lt;00:00, 23110.09it/s]",
            "_view_count": null,
            "_view_module_version": "1.5.0",
            "description_tooltip": null,
            "_model_module": "@jupyter-widgets/controls",
            "layout": "IPY_MODEL_df37d8ad8fa54896bb23b6fd652cde0c"
          }
        },
        "1694ac1976314276aa9ecdbb200c06af": {
          "model_module": "@jupyter-widgets/controls",
          "model_name": "ProgressStyleModel",
          "state": {
            "_view_name": "StyleView",
            "_model_name": "ProgressStyleModel",
            "description_width": "initial",
            "_view_module": "@jupyter-widgets/base",
            "_model_module_version": "1.5.0",
            "_view_count": null,
            "_view_module_version": "1.2.0",
            "bar_color": null,
            "_model_module": "@jupyter-widgets/controls"
          }
        },
        "adc7eb0a8b444e488e0fce0676a0bb53": {
          "model_module": "@jupyter-widgets/base",
          "model_name": "LayoutModel",
          "state": {
            "_view_name": "LayoutView",
            "grid_template_rows": null,
            "right": null,
            "justify_content": null,
            "_view_module": "@jupyter-widgets/base",
            "overflow": null,
            "_model_module_version": "1.2.0",
            "_view_count": null,
            "flex_flow": null,
            "width": null,
            "min_width": null,
            "border": null,
            "align_items": null,
            "bottom": null,
            "_model_module": "@jupyter-widgets/base",
            "top": null,
            "grid_column": null,
            "overflow_y": null,
            "overflow_x": null,
            "grid_auto_flow": null,
            "grid_area": null,
            "grid_template_columns": null,
            "flex": null,
            "_model_name": "LayoutModel",
            "justify_items": null,
            "grid_row": null,
            "max_height": null,
            "align_content": null,
            "visibility": null,
            "align_self": null,
            "height": null,
            "min_height": null,
            "padding": null,
            "grid_auto_rows": null,
            "grid_gap": null,
            "max_width": null,
            "order": null,
            "_view_module_version": "1.2.0",
            "grid_template_areas": null,
            "object_position": null,
            "object_fit": null,
            "grid_auto_columns": null,
            "margin": null,
            "display": null,
            "left": null
          }
        },
        "c24b3aae8d5d42c6b7de4fd3100e9533": {
          "model_module": "@jupyter-widgets/controls",
          "model_name": "DescriptionStyleModel",
          "state": {
            "_view_name": "StyleView",
            "_model_name": "DescriptionStyleModel",
            "description_width": "",
            "_view_module": "@jupyter-widgets/base",
            "_model_module_version": "1.5.0",
            "_view_count": null,
            "_view_module_version": "1.2.0",
            "_model_module": "@jupyter-widgets/controls"
          }
        },
        "df37d8ad8fa54896bb23b6fd652cde0c": {
          "model_module": "@jupyter-widgets/base",
          "model_name": "LayoutModel",
          "state": {
            "_view_name": "LayoutView",
            "grid_template_rows": null,
            "right": null,
            "justify_content": null,
            "_view_module": "@jupyter-widgets/base",
            "overflow": null,
            "_model_module_version": "1.2.0",
            "_view_count": null,
            "flex_flow": null,
            "width": null,
            "min_width": null,
            "border": null,
            "align_items": null,
            "bottom": null,
            "_model_module": "@jupyter-widgets/base",
            "top": null,
            "grid_column": null,
            "overflow_y": null,
            "overflow_x": null,
            "grid_auto_flow": null,
            "grid_area": null,
            "grid_template_columns": null,
            "flex": null,
            "_model_name": "LayoutModel",
            "justify_items": null,
            "grid_row": null,
            "max_height": null,
            "align_content": null,
            "visibility": null,
            "align_self": null,
            "height": null,
            "min_height": null,
            "padding": null,
            "grid_auto_rows": null,
            "grid_gap": null,
            "max_width": null,
            "order": null,
            "_view_module_version": "1.2.0",
            "grid_template_areas": null,
            "object_position": null,
            "object_fit": null,
            "grid_auto_columns": null,
            "margin": null,
            "display": null,
            "left": null
          }
        }
      }
    }
  },
  "cells": [
    {
      "cell_type": "markdown",
      "metadata": {
        "id": "4zhjpqvcdo5o"
      },
      "source": [
        "# Tarea 2: Backpropagation, descenso de gradiente y entrenamiento <br/> CC6204 Deep Learning, Universidad de Chile \n",
        "\n"
      ]
    },
    {
      "cell_type": "code",
      "metadata": {
        "id": "I_kVL7undMBx"
      },
      "source": [
        "# Este notebook está pensado para correr en CoLaboratory. \n",
        "# Lo único imprescindible por importar es torch \n",
        "import torch"
      ],
      "execution_count": 1,
      "outputs": []
    },
    {
      "cell_type": "markdown",
      "metadata": {
        "id": "8HvMMXxjkxz4"
      },
      "source": [
        "# Parte 1: Preliminares: funciones de activación y función de error"
      ]
    },
    {
      "cell_type": "markdown",
      "metadata": {
        "id": "Ph78UHMwdwp2"
      },
      "source": [
        "## 1a) Derivando las funciones de activación\n",
        "\n",
        "En esta parte se calculan e implementan las derivadas de las funciones `relu`, `swish` y `celu`. `swish` y `celu` tienen ambas parámetros adicionales así que se calculan las derivadas (parciales) con respecto a ellos también."
      ]
    },
    {
      "cell_type": "code",
      "metadata": {
        "id": "i1efI9HHj4Ft"
      },
      "source": [
        "# Más adelante en la tarea necesitaremos usar las funciones de activación \n",
        "# que implementaste en la Tarea 1 y sus derivadas.\n",
        "# Acá implementa las derivadas de las funciones de activación\n",
        "\n",
        "# Una forma de implementarlas (tal vez no la mejor) es reutilizando la misma función\n",
        "def sig(T):\n",
        "  return torch.reciprocal(1 + torch.exp(-1 * T))\n",
        "\n",
        "def tanh(T):\n",
        "  E = torch.exp(T)\n",
        "  e = torch.exp(-1 * T)\n",
        "  return (E - e) * torch.reciprocal(E + e)\n",
        "\n",
        "def relu(T):\n",
        "  return torch.clamp(T, min=0)\n",
        "  \n",
        "\n",
        "def swish(T, beta):\n",
        "  return sig(T*beta)*T\n",
        "\n",
        "def celu(T, alfa):\n",
        "  if alfa == 0:\n",
        "    raise ValueError(\"alpha cannot be 0\")\n",
        "  exp = alfa * torch.true_divide(T, alfa).expm1()\n",
        "  exp = torch.clamp(exp, max = 0)\n",
        "  return relu(T) + exp\n",
        "\n",
        "def softmax(T, dim, estable=True):\n",
        "  if estable:\n",
        "    T -= T.max(dim=dim, keepdim=True)[0]  # keepdim=True => output has dim with size 1. Otherwise, dim is squeezed\n",
        "  exp = torch.exp(T)\n",
        "  return exp / torch.sum(exp, dim=dim, keepdim=True)\n",
        "\n",
        "def drelu_dx(T):\n",
        "  outT = torch.clone(T) # es necesario, porque si no modificariamos el tensor de entrada\n",
        "  outT=torch.clamp(outT, min=0)\n",
        "  outT[outT > 0] = 1\n",
        "  return outT\n",
        "\n",
        "\n",
        "def dswish_dx(x,beta):\n",
        "  #return swish(x,beta)*(torch.true_divide(1,x)+beta-torch.true_divide(swish(x,beta)*beta,x))\n",
        "  return swish(x,beta)+sig(x)*(1-swish(x,beta))\n",
        "\n",
        "\n",
        "def dswish_dbeta(x,beta):\n",
        "  return swish(x,beta)*(x-1)\n",
        "\n",
        "\n",
        "def dcelu_dx(x,alpha,h): \n",
        "  g1 = torch.ge(x, 0).to(x.dtype)\n",
        "  g2 = torch.lt(x, 0).to(x.dtype)\n",
        "  x2=torch.true_divide(h, alpha)+1\n",
        "\n",
        "  return x2*g2+g1\n",
        "\n",
        "def dcelu_dalpha(x,alpha,h):\n",
        "  x1=torch.clamp(x,max=0)\n",
        "  g=torch.ne(x1, 0).to(x1.dtype)\n",
        "  r=torch.true_divide(h,alpha)-torch.true_divide(x,alpha**2)*h+torch.true_divide(x,alpha)\n",
        "  return r*g"
      ],
      "execution_count": 2,
      "outputs": []
    },
    {
      "cell_type": "markdown",
      "metadata": {
        "id": "1BhUhivg37d0"
      },
      "source": [
        "## 1b) Entropía Cruzada\n",
        "\n",
        "Se hace una función para computar la pérdida de nuestra red, la entropía cruzada. Para dos distribuciones de probabilidad discreta $p(x)$ y $q(x)$ la entropía cruzada (cross entropy) entre $p$ y $q$ está dada por\n",
        "<br>\n",
        "\n",
        "\\begin{equation}\n",
        "\\it{CE}(p,q)=\\sum_{x}p(x)\\log \\bigg(\\frac{1}{q(x)}\\bigg)=- \\sum_{x}p(x)\\log q(x)\n",
        "\\end{equation}\n",
        "<br>\n",
        "donde $x$ varía sobre todos los posibles valores para los cuales la distribución está definida.\n",
        "\n",
        "La función `CELoss` recibe tensores $Q_{ij}$ y $P_{ij}$ (de las mismas dimensiones) y calcula el promedio de las entropías cruzadas de las distribuciones $p_i$ y $q_i$ de la siguiente forma\n",
        "<br>\n",
        "\n",
        "\\begin{equation}\n",
        "\\it{CELoss}(Q,P)=\\frac{1}{N}\\sum_{i}\\it{CE}(p_{i}, q_{i})\n",
        "\\end{equation}\n",
        "<br>\n",
        "donde $p_i(x)=P_{ix}$, $q_i(x)=Q_{ix}$ y $N$ es el tamaño de la primera dimension de los tensores (dimension `0`). La entropía cruzada se usa como una función de error, en donde el primer argumento ($Q$) es la aproximación (distribución de probabilidad erronea) y el segundo argumento ($P$) es el valor al que nos queremos acercar (distribución de probabilidad real, o más percisamente en nuestro caso, distribución de probabilidad empírica).\n",
        "\n",
        "En nuestra implementación se evita cualquier ocurrencia de `NaN` debido a valores en nuestras distribuciones de probabilidad excesivamente pequeños al calcular `torch.log`. El valor épsilon limitará el valor mínimo del valor original cuando `estable=True`."
      ]
    },
    {
      "cell_type": "code",
      "metadata": {
        "id": "aGaXuo315NDK"
      },
      "source": [
        "def CELoss(Q, P, estable=True, epsilon=1e-8):\n",
        "  if estable:\n",
        "    Q=Q.clamp(epsilon, 1-epsilon)\n",
        "  N= Q.size()[0]\n",
        "  q=torch.log(Q)\n",
        "  return torch.div(torch.sum(P*q),-N).item()\n"
      ],
      "execution_count": 3,
      "outputs": []
    },
    {
      "cell_type": "markdown",
      "metadata": {
        "id": "D9SpFNK7FkJ9"
      },
      "source": [
        "# Parte 2: Back propagation\n",
        "\n",
        "En esta parte se implementa back propagation para poder actualizar los parámetros de la red neuronal implementada en la actividad 1 . La red está dada por las ecuaciones\n",
        "<br>\n",
        "\n",
        "\\begin{eqnarray*}\n",
        "h^{(\\ell)} & = & f^{(\\ell)}(h^{(\\ell-1)} W^{(\\ell)}+b^{(\\ell)}) \\\\\n",
        "\\hat{y} & = & \\text{softmax}(h^{(L)}U+c).\n",
        "\\end{eqnarray*}\n",
        "<br>\n",
        "$h^{(0)}$ es el tensor de input, digamos $x$, y típicamente llamamos a $\\hat{y}$ como $\\hat{y}=\\text{forward}(x)$.\n",
        "\n",
        "Para optimizar los parámetros de nuestra red se usa la función de pérdida/error de entropía cruzada."
      ]
    },
    {
      "cell_type": "markdown",
      "metadata": {
        "id": "otIiI1mNygen"
      },
      "source": [
        "## 2a) Método `backward`\n",
        "\n",
        "El método backward recibe como entrada tres tensores `x`, `y`, `y_pred`, y debiera computar todos los gradientes para cada uno de los parámetros de la red. Las constantes de las funciones de activación celu y swish se consideran como parámetros entrenables."
      ]
    },
    {
      "cell_type": "code",
      "metadata": {
        "id": "FvcnNQLc0Y5a"
      },
      "source": [
        "class FFNN(torch.nn.Module):\n",
        "  def __init__(self, F, l_h, l_a, C, l_a_params=[]):\n",
        "    super(FFNN, self).__init__()\n",
        "    \n",
        "    sizes = [F] + l_h + [C]\n",
        "    self.Ws = torch.nn.ParameterList([torch.nn.Parameter(torch.randn(sizes[i], sizes[i+1])) for i in range(len(sizes)-1)])\n",
        "    self.bs = torch.nn.ParameterList([torch.nn.Parameter(torch.zeros(h)) for h in sizes[1:]])\n",
        "    self.fs = l_a\n",
        "    self.fs_ps =  l_a_params\n",
        "\n",
        "  @property\n",
        "  def in_size(self):\n",
        "    return self.Ws[0].shape[0]\n",
        "    \n",
        "  def load_weights(self, Ws, U, bs, c):\n",
        "    self.Ws = torch.nn.ParameterList([torch.nn.Parameter(W) for W in Ws + [U]])\n",
        "    self.bs = torch.nn.ParameterList([torch.nn.Parameter(b) for b in bs + [c]])\n",
        "  \n",
        "  def resumen(self):\n",
        "    # Usa self.parameters() o self.named_parameters().\n",
        "    for name, p in self.named_parameters():\n",
        "      print('{}:\\t{}'.format(name, p.size()))\n",
        "    pass\n",
        "  \n",
        "  def forward(self, x):\n",
        "\n",
        "    #the number of examples is the size of the first dimension of the input tensor\n",
        "    #n_ex = x.size(dim=0)\n",
        "\n",
        "    result=x\n",
        "    u_cache = []\n",
        "    h_cache = []\n",
        "    cte_index=0\n",
        "\n",
        "    for i in range(len(self.Ws)): ##for i in range(l_h+1)\n",
        "      result=torch.mm(result,self.Ws[i]) + self.bs[i]\n",
        "      u_cache.append(result)\n",
        "\n",
        "      if i != len(self.Ws)-1:\n",
        "        if self.fs[i] == celu or self.fs[i] == swish:\n",
        "          result=self.fs[i](result, self.fs_ps[cte_index])\n",
        "          cte_index +=1\n",
        "        else:\n",
        "          result=self.fs[i](result)\n",
        "        h_cache.append(result)\n",
        "      \n",
        "      else:\n",
        "        result=softmax(result, dim=1)\n",
        "        h_cache.append(result)\n",
        "        self.u_cache=u_cache\n",
        "        self.h_cache=h_cache\n",
        "        return result\n",
        "  \n",
        "  def backward(self, x, y, y_pred):\n",
        "\n",
        "    B = x.size()[0]\n",
        "    cte_index=len(self.fs_ps)-1\n",
        "\n",
        "    W_grads=[]\n",
        "    bias_grads=[]\n",
        "    cte_grads=[]\n",
        "\n",
        "\n",
        "    uk=self.u_cache[-1]\n",
        "    hk=self.h_cache[-1] #hk=f(uk)\n",
        "\n",
        "    dl_du= 1/B*y_pred - 1/B*y\n",
        "    dl_dhk_1= None\n",
        "    \n",
        "    for i in reversed(range(len(self.bs))):\n",
        "\n",
        "      db=sum(dl_du,0)\n",
        "\n",
        "      self.bs[i].grad=db\n",
        "\n",
        "      \n",
        "\n",
        "      if i>0:\n",
        "        uk_1=self.u_cache[i-1] #=u^k-1\n",
        "        hk_1=self.h_cache[i-1] #=h^k-1\n",
        "        dl_dhk_1=dl_du @ self.Ws[i].t() #derivada de h^(k-1) 50x30\n",
        "\n",
        "        dW=hk_1.t() @ dl_du #h_cahche[i-1]=h^(k-1)\n",
        "        self.Ws[i].grad=dW\n",
        "\n",
        "        \n",
        "        fun=self.fs[i-1]\n",
        "        \n",
        "        #derivada de du se actualiza a la derivada de u^(k-1)\n",
        "        if fun == relu:\n",
        "          dl_du=dl_dhk_1 * drelu_dx(uk_1)\n",
        "\n",
        "        elif fun == swish:\n",
        "          dl_du = dl_dhk_1 * dswish_dx(uk_1,self.fs_ps[cte_index])\n",
        "          dL_dcte = dl_dhk_1 * dswish_dbeta(uk_1,self.fs_ps[cte_index])\n",
        "\n",
        "          cte_grads.append(dL_dcte)\n",
        "          cte_index= cte_index-1\n",
        "\n",
        "        elif fun == celu:\n",
        "          dl_du = dl_dhk_1 * dcelu_dx(uk_1,self.fs_ps[cte_index],hk_1)\n",
        "\n",
        "          dl_dcte = dl_dhk_1 * dcelu_dalpha(uk_1,self.fs_ps[cte_index],hk_1)\n",
        "          cte_grads.append(dl_dcte)\n",
        "          cte_index = cte_index-1\n",
        "\n",
        "        elif fun == sig:\n",
        "          dl_du = dl_dhk_1 * hk_1*(1-hk_1)\n",
        "\n",
        "        elif fun == tanh:\n",
        "          dl_du=dl_dhk_1*(1 - hk_1 * hk_1)\n",
        "\n",
        "      else:\n",
        "        dW=x.t() @ dl_du \n",
        "        self.Ws[0].grad=dW\n",
        "\n",
        "\n",
        "    "
      ],
      "execution_count": 4,
      "outputs": []
    },
    {
      "cell_type": "markdown",
      "metadata": {
        "id": "AE3EveEj2JEP"
      },
      "source": [
        "# Parte 3: Descenso de gradiente y entrenamiento\n",
        "\n",
        "En esta parte se programa el algoritmo de descenso de gradiente más común y se entrena finalmente la red para que encuentre parámetros que le permitan clasificar datos aleatorios y también el dataset de MNIST utilizado en la tarea anterior."
      ]
    },
    {
      "cell_type": "markdown",
      "metadata": {
        "id": "vpCfOvvbLdoq"
      },
      "source": [
        "## 3a) Datos para carga\n",
        "\n",
        "En esta parte se crea un conjunto de datos de prueba aleatorios para probar con la red.\n",
        "\n",
        "Se crea una clase `RandomDataset` como subclase de `Dataset` (que se encuentra en el módulo [`torch.utils.data`]()). Recibir en su inicializador la cantidad de ejemplos a crear, la cantidad de características de cada ejemplo, y la cantidad de clases en la función objetivo. Se define la función `__len__` que retorna el largo del dataset y la función `__getitem__` que permite acceder a un item específico de los datos.\n",
        "Cada elemento entregado por `__getitem__` es un par $(x,y)$ con un único ejemplo, donde $x$ es un tensor que representa a los datos de entrada (características) e $y$ representa al valor esperado de la clasificación para esa entrada. "
      ]
    },
    {
      "cell_type": "code",
      "metadata": {
        "id": "U6o4TjFZa3gJ"
      },
      "source": [
        "from torch.utils.data import Dataset, DataLoader\n",
        "import random\n",
        "\n",
        "class RandomDataset(Dataset):\n",
        "  def __init__(self, N, F, C):\n",
        "    \n",
        "    X=torch.rand(N,F)\n",
        "    self.X = torch.bernoulli(X)\n",
        "    Y=torch.zeros(N,C)\n",
        "    for i in range(N):\n",
        "      p=random.randint(0, C-1)\n",
        "      Y[i][p]=1\n",
        "    self.Y=Y\n",
        "    \n",
        "  \n",
        "  def __len__(self):\n",
        "    return self.X.size()[0]\n",
        "  \n",
        "  def __getitem__(self, i):\n",
        "    return self.X[i], self.Y[i]"
      ],
      "execution_count": 5,
      "outputs": []
    },
    {
      "cell_type": "markdown",
      "metadata": {
        "id": "mE3Yi4agAoJJ"
      },
      "source": [
        "## 3b) Optimizer\n",
        "\n",
        "Se crea una clase que contendra los parametros de la red y el learning rate, será la encargada de realizar la actualización de los parametros de la red."
      ]
    },
    {
      "cell_type": "code",
      "metadata": {
        "id": "qVVhMfMcBAaX"
      },
      "source": [
        "class SGD():\n",
        "  def __init__(self, parameters, lr):\n",
        "    # lo que sea necesario inicializar\n",
        "    self.parameters=parameters\n",
        "    self.lr=lr\n",
        "\n",
        "  \n",
        "  def step(self):\n",
        "    # actualiza acá los parámetros a partir del gradiente de cada uno\n",
        "    for p in self.parameters:\n",
        "        p.data -= self.lr * p.grad"
      ],
      "execution_count": 6,
      "outputs": []
    },
    {
      "cell_type": "markdown",
      "metadata": {
        "id": "Bm4X2oazLifX"
      },
      "source": [
        "## 4c) Entrenando la red con datos al azar\n",
        "\n",
        "Se crea un ciclo de entrenamiento. Para esto se implementa la función `entrenar_FFNN` que recibe una red, un dataset, la cantidad de épocas por las que se quiere entrenar, el tamaño de los paquetes de ejemplos usados en el entrenamiento, y el dispositivo donde se correrá el loop.\n",
        "\n",
        "La función retorna una lista con el valor de la pérdida en cada iteración.\n",
        "\n",
        "El uso de la función, y de todo el código hasta ahora, debiera verse como sigue:\n",
        "\n",
        "```python\n",
        "F, C = 300, 10\n",
        "red = FFNN(F, [50,30], [relu,sig], C)\n",
        "N = 1000\n",
        "dataset = RandomDataset(N, F, C)\n",
        "perdida = entrenar_FFNN(red, dataset, epochs=20, batch_size=8, device='cpu')\n",
        "``` "
      ]
    },
    {
      "cell_type": "code",
      "metadata": {
        "id": "s4jgU-fDUPUD"
      },
      "source": [
        "\n",
        "# Tu código acá\n",
        "def entrenar_FFNN(red, dataset, optimizer,epochs=1, batch_size=1, device='cuda'):\n",
        "  costs=[]\n",
        "  iterations=[]\n",
        "  accuracy=[]\n",
        "\n",
        "  red=red.to(device)\n",
        "  data = DataLoader(dataset, batch_size, shuffle=True)\n",
        "\n",
        "  # Comienza el entrenamiento\n",
        "  loss, acc = [], []\n",
        "  cost=0\n",
        "  for i in range(epochs+1):\n",
        "    correctos=0\n",
        "    samples=0\n",
        "    for (x, y) in data:\n",
        "      x=x.to(device)\n",
        "      y=y.to(device)\n",
        "      y_pred=red.forward(x)\n",
        "      cost=CELoss(y_pred,y)\n",
        "      red.backward(x,y,y_pred)\n",
        "      #prefri ocupar esto que el optimizer porque me daba mas seguridad\n",
        "      for p in red.parameters():\n",
        "        p.data -= optimizer.lr * p.grad\n",
        "      \n",
        "      samples+=y.size()[0]\n",
        "\n",
        "      Y_PRED_C = (y_pred >= 0.5).float()\n",
        "\n",
        "      owo=torch.argmax(Y_PRED_C,dim=1)\n",
        "      uwu=torch.argmax(y,dim=1)\n",
        "\n",
        "      correctos+=torch.sum(owo==uwu).item()\n",
        "\n",
        "\n",
        "    #Se imprimen los datos al final de cada epoca\n",
        "    loss.append(cost)\n",
        "    accuracy = (correctos / samples) * 100\n",
        "    acc.append(accuracy)\n",
        "\n",
        "  print(\"correctos:\",correctos)\n",
        "  print(\"samples\",samples)\n",
        "  return loss,acc\n"
      ],
      "execution_count": 9,
      "outputs": []
    },
    {
      "cell_type": "markdown",
      "metadata": {
        "id": "2-8X4BsV_brL"
      },
      "source": [
        "Se hacen distintas redes de ejemplo para ser comparadas"
      ]
    },
    {
      "cell_type": "code",
      "metadata": {
        "id": "2o4L800X_fuS",
        "outputId": "688e98a3-b361-42e1-caf8-954c51edde0b",
        "colab": {
          "base_uri": "https://localhost:8080/"
        }
      },
      "source": [
        "N,F,C=1000,300,10\n",
        "dataset = RandomDataset(N,F,C)\n",
        "\n",
        "model1 = FFNN(F, [100,200], [swish, swish], C,[10,10])\n",
        "optimizer = SGD(model1.parameters(),0.001)\n",
        "loss1, acc1 = entrenar_FFNN(model1, dataset, optimizer, 20,10)\n",
        "\n",
        "model2 = FFNN(F, [100,200], [celu,celu], C,[10,10])\n",
        "optimizer = SGD(model2.parameters(),0.001)\n",
        "loss2, acc2 = entrenar_FFNN(model2, dataset, optimizer, 20,10)\n",
        "\n",
        "model3 = FFNN(F, [100,200], [relu,relu], C,[10,10])\n",
        "optimizer = SGD(model3.parameters(),0.001)\n",
        "loss3, acc3 = entrenar_FFNN(model3, dataset, optimizer, 20,10)\n",
        "\n",
        "model4 = FFNN(F, [3,2], [celu,celu], C,[10,10])\n",
        "optimizer = SGD(model4.parameters(),0.001)\n",
        "loss4, acc4 = entrenar_FFNN(model4, dataset, optimizer, 20,10)\n",
        "\n",
        "model5 = FFNN(F, [30,10], [celu,celu], C,[10,10])\n",
        "optimizer = SGD(model5.parameters(),0.001)\n",
        "loss5, acc5 = entrenar_FFNN(model5, dataset, optimizer, 20,10)\n",
        "\n",
        "model6 = FFNN(F, [100,100], [celu,celu], C,[10,10])\n",
        "optimizer = SGD(model6.parameters(),0.001)\n",
        "loss6, acc6 = entrenar_FFNN(model6, dataset, optimizer, 20,10)\n",
        "\n",
        "model7 = FFNN(F, [200,200], [celu,celu], C,[10,10])\n",
        "optimizer = SGD(model7.parameters(),0.001)\n",
        "loss7, acc7 = entrenar_FFNN(model7, dataset, optimizer, 20,10)"
      ],
      "execution_count": 10,
      "outputs": [
        {
          "output_type": "stream",
          "text": [
            "correctos: 764\n",
            "samples 1000\n",
            "correctos: 867\n",
            "samples 1000\n",
            "correctos: 778\n",
            "samples 1000\n",
            "correctos: 95\n",
            "samples 1000\n",
            "correctos: 94\n",
            "samples 1000\n",
            "correctos: 149\n",
            "samples 1000\n",
            "correctos: 975\n",
            "samples 1000\n"
          ],
          "name": "stdout"
        }
      ]
    },
    {
      "cell_type": "markdown",
      "metadata": {
        "id": "ptr16D9gYAC6"
      },
      "source": [
        "## 4d) Graficando la pérdida/error en el tiempo\n",
        "\n",
        "Se usa la librería [`matplotlib`](https://matplotlib.org/users/index.html) para mostrar cómo varía la pérdida a medida que entrena la red. "
      ]
    },
    {
      "cell_type": "code",
      "metadata": {
        "id": "sZGAxnR-Ll-Y"
      },
      "source": [
        "import matplotlib.pyplot as plt\n",
        "\n",
        "def plot_results(loss, acc):\n",
        "  # Muestra dos figuras: \n",
        "  #  (1) gráfico para la lista `loss` (Loss) y \n",
        "  #  (2) gráfico para la lista `acc` (Accuracy)\n",
        "\n",
        "  f1 = plt.figure(1)\n",
        "  ax1 = f1.add_subplot(111)\n",
        "  ax1.set_title(\"Loss comparing nets with diferent functions\")    \n",
        "  ax1.set_xlabel('epochs')\n",
        "  ax1.set_ylabel('CELoss')\n",
        "  ax1.plot(loss[0], c='r',label=\"swish\")\n",
        "  ax1.plot(loss[1], c='b',label=\"celu\")\n",
        "  ax1.plot(loss[2], c='g',label=\"relu\")\n",
        "  plt.legend()\n",
        "  f1.show()\n",
        "\n",
        "  f2 = plt.figure(2)\n",
        "  ax2 = f2.add_subplot(111)\n",
        "  ax2.set_title(\"Accuracy comparing nets with diferent functions\")    \n",
        "  ax2.set_xlabel('epochs')\n",
        "  ax2.set_ylabel('acc')\n",
        "  ax2.plot(acc[0], c='r',label=\"swish\")\n",
        "  ax2.plot(acc[1], c='b',label=\"celu\")\n",
        "  ax2.plot(acc[2], c='g',label=\"relu\")\n",
        "  plt.legend()\n",
        "  f2.show()\n",
        "  \n",
        "  f3 = plt.figure(3)\n",
        "  ax3 = f3.add_subplot(111)\n",
        "  ax3.set_title(\"Loss comparing nets with diferent layers\")    \n",
        "  ax3.set_xlabel('epochs')\n",
        "  ax3.set_ylabel('CELoss')\n",
        "  ax3.plot(loss[3], c='r',label=\"capa de 3 y 2 neuronas\")\n",
        "  ax3.plot(loss[4], c='b',label=\"capa de 30 y 10 neuronas\")\n",
        "  ax3.plot(loss[5], c='g',label=\"capa de 100 y 100 neuronas\")\n",
        "  ax3.plot(loss[6], c='y',label=\"capa de 200 y 200 neuronas\")\n",
        "  plt.legend()\n",
        "  f3.show()\n",
        "\n",
        "  f4 = plt.figure(4)\n",
        "  ax4 = f4.add_subplot(111)\n",
        "  ax4.set_title(\"Accuracy comparing nets with diferent layers\")    \n",
        "  ax4.set_xlabel('epochs')\n",
        "  ax4.set_ylabel('acc')\n",
        "  ax4.plot(acc[3], c='r',label=\"capa de 3 y 2 neuronas\")\n",
        "  ax4.plot(acc[4], c='b',label=\"capa de 30 y 10 neuronas\")\n",
        "  ax4.plot(acc[5], c='g',label=\"capa de 100 y 100 neuronas\")\n",
        "  ax4.plot(acc[6], c='y',label=\"capa de 200 y 200 neuronas\")\n",
        "  plt.legend()\n",
        "  f4.show()"
      ],
      "execution_count": 11,
      "outputs": []
    },
    {
      "cell_type": "code",
      "metadata": {
        "id": "9Kvf_gnL_vRX",
        "outputId": "b14d4b8e-6d10-40df-ce08-e322e0debdd0",
        "colab": {
          "base_uri": "https://localhost:8080/",
          "height": 1000
        }
      },
      "source": [
        "iterations=range(len(loss1))\n",
        "loss=[loss1,loss2,loss3,loss4,loss5,loss6,loss7]\n",
        "acc=[acc1,acc2,acc3,acc4,acc5,acc6,acc7]\n",
        "\n",
        "plot_results(loss,acc)"
      ],
      "execution_count": 12,
      "outputs": [
        {
          "output_type": "display_data",
          "data": {
            "image/png": "[encoded data removed]",
            "text/plain": [
              "<Figure size 432x288 with 1 Axes>"
            ]
          },
          "metadata": {
            "tags": [],
            "needs_background": "light"
          }
        },
        {
          "output_type": "display_data",
          "data": {
            "image/png": "[encoded data removed]",
            "text/plain": [
              "<Figure size 432x288 with 1 Axes>"
            ]
          },
          "metadata": {
            "tags": [],
            "needs_background": "light"
          }
        },
        {
          "output_type": "display_data",
          "data": {
            "image/png": "[encoded data removed]",
            "text/plain": [
              "<Figure size 432x288 with 1 Axes>"
            ]
          },
          "metadata": {
            "tags": [],
            "needs_background": "light"
          }
        },
        {
          "output_type": "display_data",
          "data": {
            "image/png": "[encoded data removed]",
            "text/plain": [
              "<Figure size 432x288 with 1 Axes>"
            ]
          },
          "metadata": {
            "tags": [],
            "needs_background": "light"
          }
        }
      ]
    },
    {
      "cell_type": "markdown",
      "metadata": {
        "id": "X0KdsZMKkx0g"
      },
      "source": [
        "## 4e) Opcional: Entrenando tu red con MNIST\n",
        "\n",
        "Se usa la red para entrenar con los datos de MNIST, el dataset de imágenes de numeros escritos a mano. Se grafica la pérdida para distintas opciones de redes."
      ]
    },
    {
      "cell_type": "code",
      "metadata": {
        "id": "7PJ_w-4UMeU9",
        "outputId": "06c08e55-64bb-463d-a8b7-e83fac7b6322",
        "colab": {
          "base_uri": "https://localhost:8080/",
          "height": 403,
          "referenced_widgets": [
            "15718b79a3f54ce69e991cf391d467bf",
            "801d4f7e7c7643b2a7a73efe21ddb424",
            "a900ee3dddd44a4bb8114fcbd5c088b6",
            "eb161554edee49e79fdcfb750ca82abb",
            "633f2f388ec341ed9734a6d104652998",
            "3f93cb2a27d2441eb5854e3cd733822d",
            "1bf4dc508e8f4aad82a16ac888a5f0bb",
            "06c4488986a24f509a0fc895fe799512",
            "12171fcecec94cbe88bf54ff4980c483",
            "c8c5084632d04b96b3bbd5cb1a8e69e5",
            "d5bd024a472b44c5a92efc648b33f4ad",
            "433c7f3e279d45d4b24289e371ec7f9a",
            "d9d2c62fe328495a849f80b8094cb027",
            "92c6b11834cf424cafa76a602b38fbe1",
            "9d46de78d30642a68cf8671a722d6382",
            "921c07f1d34f4911b49d3c4f33fd755d",
            "1d0ef940164d41e399526bb0346316ac",
            "4bed95669b4b44b190cdf7f507ecba91",
            "3fc01186c794444f8b7583ff6f03e3f9",
            "5acb0432ea9c4fdb95d9979027395922",
            "8e6f68d3e7f44d07b3d7858caadc4092",
            "79fd53df2db44cb89a16dad368a4ba8e",
            "d3fe58561850444aab374c7fd03233db",
            "0c3a474b7fa84010b6cfe0965f8036e4",
            "bf85746a1fdf40fd8076d6960d8166e4",
            "be237a03111343e392ee0bbd8609ee46",
            "cc757888be894f1292869327d370dbf9",
            "ba24edd404c44b1190c2f0361f32a614",
            "1694ac1976314276aa9ecdbb200c06af",
            "adc7eb0a8b444e488e0fce0676a0bb53",
            "c24b3aae8d5d42c6b7de4fd3100e9533",
            "df37d8ad8fa54896bb23b6fd652cde0c"
          ]
        }
      },
      "source": [
        "# Importamos MNIST desde torchvision.\n",
        "from torchvision.datasets import MNIST\n",
        "\n",
        "# Importamos una función para convertir imágenes en tensores.\n",
        "from torchvision.transforms import ToTensor\n",
        "\n",
        "# Importamos funcionalidades útiles para mirar los datos.\n",
        "from matplotlib.pyplot import subplots\n",
        "import random \n",
        "from random import randint\n",
        "\n",
        "# Descarga y almacena el conjunto de prueba de MNIST.\n",
        "dataset = MNIST('mnist', download= True,train=True, transform=ToTensor())\n",
        "print('Cantidad total de datos:',len(dataset))"
      ],
      "execution_count": 13,
      "outputs": [
        {
          "output_type": "stream",
          "text": [
            "Downloading http://yann.lecun.com/exdb/mnist/train-images-idx3-ubyte.gz to mnist/MNIST/raw/train-images-idx3-ubyte.gz\n"
          ],
          "name": "stdout"
        },
        {
          "output_type": "display_data",
          "data": {
            "application/vnd.jupyter.widget-view+json": {
              "model_id": "15718b79a3f54ce69e991cf391d467bf",
              "version_minor": 0,
              "version_major": 2
            },
            "text/plain": [
              "HBox(children=(FloatProgress(value=1.0, bar_style='info', max=1.0), HTML(value='')))"
            ]
          },
          "metadata": {
            "tags": []
          }
        },
        {
          "output_type": "stream",
          "text": [
            "Extracting mnist/MNIST/raw/train-images-idx3-ubyte.gz to mnist/MNIST/raw\n",
            "Downloading http://yann.lecun.com/exdb/mnist/train-labels-idx1-ubyte.gz to mnist/MNIST/raw/train-labels-idx1-ubyte.gz\n"
          ],
          "name": "stdout"
        },
        {
          "output_type": "display_data",
          "data": {
            "application/vnd.jupyter.widget-view+json": {
              "model_id": "12171fcecec94cbe88bf54ff4980c483",
              "version_minor": 0,
              "version_major": 2
            },
            "text/plain": [
              "HBox(children=(FloatProgress(value=1.0, bar_style='info', max=1.0), HTML(value='')))"
            ]
          },
          "metadata": {
            "tags": []
          }
        },
        {
          "output_type": "stream",
          "text": [
            "Extracting mnist/MNIST/raw/train-labels-idx1-ubyte.gz to mnist/MNIST/raw\n",
            "Downloading http://yann.lecun.com/exdb/mnist/t10k-images-idx3-ubyte.gz to mnist/MNIST/raw/t10k-images-idx3-ubyte.gz\n",
            "\n"
          ],
          "name": "stdout"
        },
        {
          "output_type": "display_data",
          "data": {
            "application/vnd.jupyter.widget-view+json": {
              "model_id": "1d0ef940164d41e399526bb0346316ac",
              "version_minor": 0,
              "version_major": 2
            },
            "text/plain": [
              "HBox(children=(FloatProgress(value=1.0, bar_style='info', max=1.0), HTML(value='')))"
            ]
          },
          "metadata": {
            "tags": []
          }
        },
        {
          "output_type": "stream",
          "text": [
            "Extracting mnist/MNIST/raw/t10k-images-idx3-ubyte.gz to mnist/MNIST/raw\n",
            "Downloading http://yann.lecun.com/exdb/mnist/t10k-labels-idx1-ubyte.gz to mnist/MNIST/raw/t10k-labels-idx1-ubyte.gz\n"
          ],
          "name": "stdout"
        },
        {
          "output_type": "display_data",
          "data": {
            "application/vnd.jupyter.widget-view+json": {
              "model_id": "bf85746a1fdf40fd8076d6960d8166e4",
              "version_minor": 0,
              "version_major": 2
            },
            "text/plain": [
              "HBox(children=(FloatProgress(value=1.0, bar_style='info', max=1.0), HTML(value='')))"
            ]
          },
          "metadata": {
            "tags": []
          }
        },
        {
          "output_type": "stream",
          "text": [
            "Extracting mnist/MNIST/raw/t10k-labels-idx1-ubyte.gz to mnist/MNIST/raw\n",
            "Processing...\n",
            "Done!\n",
            "Cantidad total de datos: 60000\n"
          ],
          "name": "stdout"
        },
        {
          "output_type": "stream",
          "text": [
            "/usr/local/lib/python3.6/dist-packages/torchvision/datasets/mnist.py:469: UserWarning: The given NumPy array is not writeable, and PyTorch does not support non-writeable tensors. This means you can write to the underlying (supposedly non-writeable) NumPy array using the tensor. You may want to copy the array to protect its data or make it writeable before converting it to a tensor. This type of warning will be suppressed for the rest of this program. (Triggered internally at  /pytorch/torch/csrc/utils/tensor_numpy.cpp:141.)\n",
            "  return torch.from_numpy(parsed.astype(m[2], copy=False)).view(*s)\n"
          ],
          "name": "stderr"
        }
      ]
    },
    {
      "cell_type": "code",
      "metadata": {
        "id": "VrlBCZz9AGHu",
        "outputId": "cdb24d19-f996-4b5f-a2e2-e0bc123a7bfd",
        "colab": {
          "base_uri": "https://localhost:8080/",
          "height": 726
        }
      },
      "source": [
        "import numpy as np\n",
        "# Tu código de carga de datos, creación de la red, \n",
        "# entrenamiento/optimización y reportes acá\n",
        "class CreateDataset(Dataset):\n",
        "  def __init__(self, X,Y):\n",
        "    \n",
        "    self.X = X\n",
        "    self.Y=Y\n",
        "    \n",
        "  \n",
        "  def __len__(self):\n",
        "    return self.X.size()[0]\n",
        "  \n",
        "  def __getitem__(self, i):\n",
        "    return self.X[i], self.Y[i]\n",
        "\n",
        "N=len(dataset)\n",
        "F=784\n",
        "C=10\n",
        "\n",
        "\n",
        "#T, l = dataset[idx]\n",
        "#img = T.view(28,28).numpy()\n",
        "#T=T.view(1,784)\n",
        "dataX=np.ones((N,F),dtype=float)\n",
        "dataY=np.ones((N,C),dtype=float)\n",
        "\n",
        "\n",
        "for i in range(len(dataset)):\n",
        "  T,l=dataset[i]\n",
        "  tp=T.view(1,784)\n",
        "  lp=np.ones((1,10))\n",
        "  lp[0][l]=1\n",
        "  dataX[i]=tp\n",
        "  dataY[i]=lp\n",
        "\n",
        "dataX=torch.from_numpy(dataX)\n",
        "dataY=torch.from_numpy(dataY)\n",
        "\n",
        "dataX=dataX.float()\n",
        "dataY=dataY.float()\n",
        "data=CreateDataset(dataX,dataY)\n",
        "\n",
        "l_h=[32,16]\n",
        "l_a=[relu,relu]\n",
        "red1=FFNN(F,l_h,l_a,C)\n",
        "loss1, acc1 = entrenar_FFNN(red1, data, optimizer, 2,10)\n",
        "iterations=range(len(loss1))\n",
        "\n",
        "\n",
        "l_h=[32,16]\n",
        "l_a=[swish,swish]\n",
        "red2=FFNN(F,l_h,l_a,C,[10,10])\n",
        "loss2, acc2 = entrenar_FFNN(red2, data, optimizer, 2,10)\n",
        "\n",
        "\n",
        "\n",
        "l_h=[32,16]\n",
        "l_a=[celu,celu]\n",
        "red3=FFNN(F,l_h,l_a,C,[10,10])\n",
        "loss3, acc3= entrenar_FFNN(red3, data, optimizer, 2,10)\n",
        "\n",
        "l_h=[32,16,8]\n",
        "l_a=[swish,swish,relu]\n",
        "red4=FFNN(F,l_h,l_a,C,[10,10])\n",
        "loss4, acc4 = entrenar_FFNN(red4, data, optimizer, 2,10)\n",
        "\n",
        "f6 = plt.figure(6)\n",
        "ax6 = f6.add_subplot(111)\n",
        "ax6.set_title(\"Loss predicting MNIST\")    \n",
        "ax6.set_xlabel('epochs')\n",
        "ax6.set_ylabel('CELOSS')\n",
        "ax6.plot(loss1, c='r',label=\"red 1\")\n",
        "ax6.plot(loss2, c='b',label=\"red 2\")\n",
        "ax6.plot(loss3, c='g',label=\"red 3\")\n",
        "ax6.plot(loss4, c='y',label=\"red 4\")\n",
        "plt.legend()\n",
        "f6.show()\n",
        "\n",
        "f7 = plt.figure(4)\n",
        "ax7 = f7.add_subplot(111)\n",
        "ax7.set_title(\"Accuracity predicting MNIST\")    \n",
        "ax7.set_xlabel('epochs')\n",
        "ax7.set_ylabel('Accuracity')\n",
        "ax7.plot(acc1, c='r',label=\"red 1\")\n",
        "ax7.plot(acc2, c='b',label=\"red 2\")\n",
        "ax7.plot(acc3, c='g',label=\"red 3\")\n",
        "ax7.plot(acc4, c='y',label=\"red 4\")\n",
        "plt.legend()\n",
        "f7.show()"
      ],
      "execution_count": 14,
      "outputs": [
        {
          "output_type": "stream",
          "text": [
            "\n",
            "correctos: 60000\n",
            "samples 60000\n",
            "correctos: 6053\n",
            "samples 60000\n",
            "correctos: 60000\n",
            "samples 60000\n",
            "correctos: 60000\n",
            "samples 60000\n"
          ],
          "name": "stdout"
        },
        {
          "output_type": "display_data",
          "data": {
            "image/png": "[encoded data removed]",
            "text/plain": [
              "<Figure size 432x288 with 1 Axes>"
            ]
          },
          "metadata": {
            "tags": [],
            "needs_background": "light"
          }
        },
        {
          "output_type": "display_data",
          "data": {
            "image/png": "[encoded data removed]",
            "text/plain": [
              "<Figure size 432x288 with 1 Axes>"
            ]
          },
          "metadata": {
            "tags": [],
            "needs_background": "light"
          }
        }
      ]
    }
  ]
}